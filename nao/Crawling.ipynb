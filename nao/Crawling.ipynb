{
 "metadata": {
  "anaconda-cloud": {},
  "kernelspec": {
   "display_name": "Python [Root]",
   "language": "python",
   "name": "Python [Root]"
  },
  "language_info": {
   "codemirror_mode": {
    "name": "ipython",
    "version": 2
   },
   "file_extension": ".py",
   "mimetype": "text/x-python",
   "name": "python",
   "nbconvert_exporter": "python",
   "pygments_lexer": "ipython2",
   "version": "2.7.12"
  },
  "name": ""
 },
 "nbformat": 3,
 "nbformat_minor": 0,
 "worksheets": [
  {
   "cells": [
    {
     "cell_type": "markdown",
     "metadata": {},
     "source": [
      "# Evolution of a Crawling Behavior for a Humanoid Robot Using Genetic Algorithms\n",
      "\n",
      "<img src=\"files/img/crawling.png\" />\n",
      "\n",
      "Controlling a biped robot with several degrees of freedom is a challenging task. For a humanoid robot to perform in complex environments, fast, stable and adaptive behaviors are required. In this session you will work on a solution for automatic generation of a [crawling](http://en.wikipedia.org/wiki/Crawling_(human&#41;) gait using genetic algorithms (GA).\n",
      "\n",
      "## Aim of this notebook\n",
      "\n",
      "You will use Pyevolve for tuning the parameters of a crawling controller of a simulated [NAO robot](https://www.ald.softbankrobotics.com/en/cool-robots/nao). You will perform experiments to validate the performance of the evolution strategy.\n",
      "\n",
      "## The Crawling Gait\n",
      "\n",
      "Some human-like movements are inherently periodic and repeat the same set of steps several times (e.g. walk, crawl, etc). Such a periodic function can be decomposed into a sum of simple oscillators as represented by the following expression: \n",
      "\n",
      "<img src=\"files/img/eq1.png\" width=\"480\" />\n",
      "\n",
      "where $N$ is the number of frequencies, $C$ is the offset, $A_{n=1..N}$ are amplitudes, $T$ is the period and $\u03a6_{n=1..N}$ are phases.\n",
      "Applying these oscillators to each joint, a crawling gait can be developed and tested with the simulated humanoid NAO.\n",
      "\n",
      "<img src=\"files/img/joints.png\" />\n",
      "\n",
      "The figure shows the humanoid structure and the referential axis considered ([more details about NAO joints can be found here](http://doc.aldebaran.com/1-14/family/robots/joints_robot.html)). The main idea behind the definition of this gait is to place an oscillator on each joint we pretend to move in order to define its trajectory. The oscillators are placed on the following joints of the left (L) and right (R) sides: ShoulderPitch, ShoulderRoll, ElbowRoll HipPitch, HipRoll, and KneePitch (note: the \"hip\" is referred to as \"thigh\" in the figure).\n",
      "\n",
      "Therefore, 12 single-frequency oscillators are used. Since each single-frequency oscillator will have 4 parameters to define, 48 parameters are needed to completely define the gait. It is common to assume a sagittal symmetry, which determines the same movements for corresponding left and right sided joints with a half-period phase shift. Hence, it is possible to reduce the number of parameters by half of the original size, resulting on 24 parameters. Additionally, the period of all oscillators should be the same to keep all the joints synchronized by a single frequency clock. This consideration reduces the number of parameters to 19. If the parameters are defined on the left-sided joints, the right-sided joints can be readily obtained: for roll joints the left and the right side perform the same trajectories over the time; only the sign of the offset needs to be changed. For pitch joints, the right side can be obtained by adding a phase, \u03c0, to the corresponding oscillator. The unknown parameters together form the genome that will be used by the genetic algorithm to generate the gait. "
     ]
    },
    {
     "cell_type": "markdown",
     "metadata": {},
     "source": [
      "## Simulation setup\n",
      "\n",
      "Running the simulator: execute the script `launch_map.bat`. The UDK engine will start and a 3D environment will appear in a new window. You can navigate through it with the mouse and the WASD keys.\n",
      "\n",
      "Spawning the Nao robot: a robot is created in the simulator by executing the script `spawn_robot.bat`. The robot is spawned at a pre-defined position, but it falls to the floor.\n",
      "\n",
      "**VERY IMPORTANT**: if the Windows Firewall asks for permission when running the application, you must select **BOTH types of network, private and public**."
     ]
    },
    {
     "cell_type": "markdown",
     "metadata": {},
     "source": [
      "## Connecting to the Nao robot\n",
      "\n",
      "Once the simulator is running and the robot has been spawned, you can proceed with the following statements:"
     ]
    },
    {
     "cell_type": "code",
     "collapsed": false,
     "input": [
      "import sys\n",
      "sys.path.append('c:\\\\udk\\\\naoqi-sdk-1.12.5-win32-vs2010\\\\lib')\n",
      "from Nao import Nao"
     ],
     "language": "python",
     "metadata": {},
     "outputs": []
    },
    {
     "cell_type": "markdown",
     "metadata": {},
     "source": [
      "Creating a `nao` object from class `Nao`:"
     ]
    },
    {
     "cell_type": "code",
     "collapsed": false,
     "input": [
      "nao = Nao()"
     ],
     "language": "python",
     "metadata": {},
     "outputs": []
    },
    {
     "cell_type": "markdown",
     "metadata": {},
     "source": [
      "Standing up (if any error appears, please ask the teacher in order to use Choregraphe for putting the robot in a standing position):"
     ]
    },
    {
     "cell_type": "code",
     "collapsed": true,
     "input": [
      "nao.stand_up()"
     ],
     "language": "python",
     "metadata": {},
     "outputs": []
    },
    {
     "cell_type": "markdown",
     "metadata": {},
     "source": [
      "Getting the actual posture:"
     ]
    },
    {
     "cell_type": "code",
     "collapsed": false,
     "input": [
      "nao.getActualPose()"
     ],
     "language": "python",
     "metadata": {},
     "outputs": []
    },
    {
     "cell_type": "markdown",
     "metadata": {},
     "source": [
      "Setting the crawling posture:"
     ]
    },
    {
     "cell_type": "code",
     "collapsed": false,
     "input": [
      "nao.initCrawling()"
     ],
     "language": "python",
     "metadata": {},
     "outputs": []
    },
    {
     "cell_type": "markdown",
     "metadata": {},
     "source": [
      "Run a crawling cycle:"
     ]
    },
    {
     "cell_type": "code",
     "collapsed": false,
     "input": [
      "import math\n",
      "params = [1.28,0.1,0.21,0.,0.035,0.039,-2.,0.12,-0.86,math.pi,\\\n",
      "          0.06,0.33,math.pi/2,0.005,-0.11,-2.,0.008,1.8,0.]\n",
      "nao.crawl(params, seconds=5)"
     ],
     "language": "python",
     "metadata": {},
     "outputs": []
    },
    {
     "cell_type": "markdown",
     "metadata": {},
     "source": [
      "The result is the distance travelled by the robot during the specified time in seconds.\n",
      "\n",
      "The argument `params` is a list with the period, and the amplitude (A), offset (K) and phase (Phi) of each joint oscillator:\n",
      "\n",
      "* period\n",
      "* shoulderPitchA\n",
      "* shoulderPitchK\n",
      "* shoulderPitchPhi\n",
      "* shoulderRollA\n",
      "* shoulderRollK\n",
      "* shoulderRollPhi\n",
      "* hipPitchA\n",
      "* hipPitchK\n",
      "* hipPitchPhi\n",
      "* hipRollA\n",
      "* hipRollK\n",
      "* hipRollPhi\n",
      "* elbowRollA\n",
      "* elbowRollK\n",
      "* elbowRollPhi\n",
      "* kneePitchA\n",
      "* kneePitchK\n",
      "* kneePitchPhi\n",
      "\n",
      "This video shows the resulting behavior in the simulated Nao: [https://www.youtube.com/watch?v=hlWUQAEbpX0](https://www.youtube.com/watch?v=hlWUQAEbpX0)"
     ]
    },
    {
     "cell_type": "markdown",
     "metadata": {},
     "source": [
      "##Task 1: GA Configuration\n",
      "\n",
      "You should develop a Pyevolve application for the crawling problem, with the following restrictions:\n",
      "\n",
      "* Use a 1D list chromosome (see http://pyevolve.sourceforge.net/0_6rc1/module_g1dlist.html)\n",
      "* An initial population of 10 chromosomes initialized randomly\n",
      "* Roulette method for selection (use [ga.selector.set](http://pyevolve.sourceforge.net/0_6rc1/module_selectors.html))\n",
      "* Real range method for mutation (use genome.mutator.set), with a probability defined by pm=0.5 (use function setMutationRate)\n",
      "* Uniform method for crossover (use [genome.crossover.set](http://pyevolve.sourceforge.net/0_6rc1/module_crossovers.html)\n",
      "* Fraction of the population created by crossover defined by pc=0.8 (use function setCrossoverRate)\n",
      "\n",
      "The fitness function has to be chosen carefully in order to achieve good results. A simple but effective fitness function to maximize can be the travelled distance during a fixed time.\n",
      "\n",
      "The 1D list chromosome accepts the `rangemin` and `rangemax` parameters, but they are shared by all the elements of the genome. You should define a standard range (e.g. [0,1]) and then scale each element to any other pre-defined range, prior to sending the crawl motion to the robot. Scaling is easily calculated by the expression:\n",
      "\n",
      "    robot_parameter = genome_value * (max - min) + min\n",
      "\n",
      "The suggested ranges for each joint parameter are shown in the following table:\n",
      "\n",
      "<table>\n",
      "<tr>\n",
      "<th>&nbsp;</th>\n",
      "<th>min</th>\n",
      "<th>max</th>\n",
      "</tr>\n",
      "<tr>\n",
      "<td height=\"22\" align=\"RIGHT\">period</td>\n",
      "<td align=\"CENTER\" sdval=\"0,8\" sdnum=\"1027;\">0,8</td>\n",
      "<td align=\"CENTER\" sdval=\"1,8\" sdnum=\"1027;\">1,8</td>\n",
      "</tr>\n",
      "<tr>\n",
      "<td height=\"22\" align=\"RIGHT\">shoulderPitchA</td>\n",
      "<td align=\"CENTER\" sdval=\"0\" sdnum=\"1027;\">0</td>\n",
      "<td align=\"CENTER\" sdval=\"0,5\" sdnum=\"1027;\">0,5</td>\n",
      "</tr>\n",
      "<tr>\n",
      "<td height=\"22\" align=\"RIGHT\">shoulderPitchK</td>\n",
      "<td align=\"CENTER\" sdval=\"-0,5\" sdnum=\"1027;\">-0,5</td>\n",
      "<td align=\"CENTER\" sdval=\"0,5\" sdnum=\"1027;\">0,5</td>\n",
      "</tr>\n",
      "<tr>\n",
      "<td height=\"22\" align=\"RIGHT\">shoulderPitchPhi</td>\n",
      "<td align=\"CENTER\" sdval=\"-3,14\" sdnum=\"1027;\">-3,14</td>\n",
      "<td align=\"CENTER\" sdval=\"3,14\" sdnum=\"1027;\">3,14</td>\n",
      "</tr>\n",
      "<tr>\n",
      "<td height=\"22\" align=\"RIGHT\">shoulderRollA</td>\n",
      "<td align=\"CENTER\" sdval=\"0,2\" sdnum=\"1027;\">0,2</td>\n",
      "<td align=\"CENTER\" sdval=\"0,4\" sdnum=\"1027;\">0,4</td>\n",
      "</tr>\n",
      "<tr>\n",
      "<td height=\"22\" align=\"RIGHT\">shoulderRollK</td>\n",
      "<td align=\"CENTER\" sdval=\"-0,1\" sdnum=\"1027;\">-0,1</td>\n",
      "<td align=\"CENTER\" sdval=\"0,1\" sdnum=\"1027;\">0,1</td>\n",
      "</tr>\n",
      "<tr>\n",
      "<td height=\"22\" align=\"RIGHT\">shoulderRollPhi</td>\n",
      "<td align=\"CENTER\" sdval=\"-3,14\" sdnum=\"1027;\">-3,14</td>\n",
      "<td align=\"CENTER\" sdval=\"3,14\" sdnum=\"1027;\">3,14</td>\n",
      "</tr>\n",
      "<tr>\n",
      "<td height=\"22\" align=\"RIGHT\">hipPitchA</td>\n",
      "<td align=\"CENTER\" sdval=\"0\" sdnum=\"1027;\">0</td>\n",
      "<td align=\"CENTER\" sdval=\"0,4\" sdnum=\"1027;\">0,4</td>\n",
      "</tr>\n",
      "<tr>\n",
      "<td height=\"22\" align=\"RIGHT\">hipPitchK</td>\n",
      "<td align=\"CENTER\" sdval=\"-1,2\" sdnum=\"1027;\">-1,2</td>\n",
      "<td align=\"CENTER\" sdval=\"0\" sdnum=\"1027;\">0</td>\n",
      "</tr>\n",
      "<tr>\n",
      "<td height=\"22\" align=\"RIGHT\">hipPitchPhi</td>\n",
      "<td align=\"CENTER\" sdval=\"-3,14\" sdnum=\"1027;\">-3,14</td>\n",
      "<td align=\"CENTER\" sdval=\"3,14\" sdnum=\"1027;\">3,14</td>\n",
      "</tr>\n",
      "<tr>\n",
      "<td height=\"22\" align=\"RIGHT\">hipRollA</td>\n",
      "<td align=\"CENTER\" sdval=\"0\" sdnum=\"1027;\">0</td>\n",
      "<td align=\"CENTER\" sdval=\"0,2\" sdnum=\"1027;\">0,2</td>\n",
      "</tr>\n",
      "<tr>\n",
      "<td height=\"22\" align=\"RIGHT\">hipRollK</td>\n",
      "<td align=\"CENTER\" sdval=\"0\" sdnum=\"1027;\">0</td>\n",
      "<td align=\"CENTER\" sdval=\"0,5\" sdnum=\"1027;\">0,5</td>\n",
      "</tr>\n",
      "<tr>\n",
      "<td height=\"22\" align=\"RIGHT\">hipRollPhi</td>\n",
      "<td align=\"CENTER\" sdval=\"-3,14\" sdnum=\"1027;\">-3,14</td>\n",
      "<td align=\"CENTER\" sdval=\"3,14\" sdnum=\"1027;\">3,14</td>\n",
      "</tr>\n",
      "<tr>\n",
      "<td height=\"22\" align=\"RIGHT\">elbowRollA</td>\n",
      "<td align=\"CENTER\" sdval=\"0\" sdnum=\"1027;\">0</td>\n",
      "<td align=\"CENTER\" sdval=\"0,1\" sdnum=\"1027;\">0,1</td>\n",
      "</tr>\n",
      "<tr>\n",
      "<td height=\"22\" align=\"RIGHT\">elbowRollK</td>\n",
      "<td align=\"CENTER\" sdval=\"-0,5\" sdnum=\"1027;\">-0,5</td>\n",
      "<td align=\"CENTER\" sdval=\"-0,2\" sdnum=\"1027;\">-0,2</td>\n",
      "</tr>\n",
      "<tr>\n",
      "<td height=\"22\" align=\"RIGHT\">elbowRollPhi</td>\n",
      "<td align=\"CENTER\" sdval=\"-3,14\" sdnum=\"1027;\">-3,14</td>\n",
      "<td align=\"CENTER\" sdval=\"3,14\" sdnum=\"1027;\">3,14</td>\n",
      "</tr>\n",
      "<tr>\n",
      "<td height=\"22\" align=\"RIGHT\">kneePitchA</td>\n",
      "<td align=\"CENTER\" sdval=\"0\" sdnum=\"1027;\">0</td>\n",
      "<td align=\"CENTER\" sdval=\"0,2\" sdnum=\"1027;\">0,2</td>\n",
      "</tr>\n",
      "<tr>\n",
      "<td height=\"22\" align=\"RIGHT\">kneePitchK</td>\n",
      "<td align=\"CENTER\" sdval=\"1,6\" sdnum=\"1027;\">1,6</td>\n",
      "<td align=\"CENTER\" sdval=\"1,9\" sdnum=\"1027;\">1,9</td>\n",
      "</tr>\n",
      "<tr>\n",
      "<td height=\"22\" align=\"RIGHT\">kneePitchPhi</td>\n",
      "<td align=\"CENTER\" sdval=\"-3,14\" sdnum=\"1027;\">-3,14</td>\n",
      "<td align=\"CENTER\" sdval=\"3,14\" sdnum=\"1027;\">3,14</td>\n",
      "</tr>\n",
      "\n",
      "</table>\n",
      "\n",
      "You are encouraged to experiment with your own ranges, but you should take into account the physical limits of the robot joints ([see the Nao documentation](http://doc.aldebaran.com/1-14/family/nao_h21/joints_h21_v32.html))."
     ]
    },
    {
     "cell_type": "markdown",
     "metadata": {},
     "source": [
      "## Task 2: Experimental Results\n",
      "\n",
      "Execute your GA and analyze the results. Use the Pyevolve plotting functions for generating the following graphs of the evolution process:\n",
      "\n",
      "* Error bars graph (raw scores).\n",
      "* Error bars graph (fitness scores).\n",
      "* Max/min/avg/std. dev. graph (raw scores).\n",
      "* Max/min/avg graph (fitness scores).\n",
      "* Raw and Fitness min/max difference graph."
     ]
    }
   ],
   "metadata": {}
  }
 ]
}