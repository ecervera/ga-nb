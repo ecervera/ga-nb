{
 "cells": [
  {
   "cell_type": "markdown",
   "metadata": {},
   "source": [
    "# Evolution of a Crawling Behavior for a Humanoid Robot Using Genetic Algorithms\n",
    "\n",
    "![](img/crawling.png)\n",
    "\n",
    "Controlling a biped robot with several degrees of freedom is a challenging task. For a humanoid robot to perform in complex environments, fast, stable and adaptive behaviors are required. In this session you will work on a solution for automatic generation of a [crawling](http://en.wikipedia.org/wiki/Crawling_(human&#41;) gait using genetic algorithms (GA).\n",
    "\n",
    "## Aim of this notebook\n",
    "\n",
    "You will use Pyevolve for tuning the parameters of a crawling controller of a simulated [NAO robot](https://www.ald.softbankrobotics.com/en/cool-robots/nao). You will perform experiments to validate the performance of the evolution strategy.\n",
    "\n",
    "## The Crawling Gait\n",
    "\n",
    "Some human-like movements are inherently periodic and repeat the same set of steps several times (e.g. walk, crawl, etc). Such a periodic function can be decomposed into a sum of simple oscillators as represented by the following expression: \n",
    "\n",
    "<img src=\"img/eq1.png\" width=\"480\" />\n",
    "\n",
    "where $N$ is the number of frequencies, $C$ is the offset, $A_{n=1..N}$ are amplitudes, $T$ is the period and $Φ_{n=1..N}$ are phases.\n",
    "Applying these oscillators to each joint, a crawling gait can be developed and tested with the simulated humanoid NAO.\n",
    "\n",
    "![](img/joints.png)\n",
    "\n",
    "The figure shows the humanoid structure and the referential axis considered ([more details about NAO joints can be found here](http://doc.aldebaran.com/1-14/family/robots/joints_robot.html)). The main idea behind the definition of this gait is to place an oscillator on each joint we pretend to move in order to define its trajectory. The oscillators are placed on the following joints of the left (L) and right (R) sides: ShoulderPitch, ShoulderRoll, ElbowRoll HipPitch, HipRoll, and KneePitch (note: the \"hip\" is referred to as \"thigh\" in the figure).\n",
    "\n",
    "Therefore, 12 single-frequency oscillators are used. Since each single-frequency oscillator will have 4 parameters to define, 48 parameters are needed to completely define the gait. It is common to assume a sagittal symmetry, which determines the same movements for corresponding left and right sided joints with a half-period phase shift. Hence, it is possible to reduce the number of parameters by half of the original size, resulting on 24 parameters. Additionally, the period of all oscillators should be the same to keep all the joints synchronized by a single frequency clock. This consideration reduces the number of parameters to 19. If the parameters are defined on the left-sided joints, the right-sided joints can be readily obtained: for roll joints the left and the right side perform the same trajectories over the time; only the sign of the offset needs to be changed. For pitch joints, the right side can be obtained by adding a phase, π, to the corresponding oscillator. The unknown parameters together form the genome that will be used by the genetic algorithm to generate the gait. \n",
    "\n",
    "## Simulation setup\n",
    "\n",
    "Download the usarsimnao.zip archive, which consits of several scripts and Python programs to run the simulator and control the Nao robot.\n",
    "\n",
    "Running the simulator: execute the script `OpenMap.bat`. The UDK engine will start and a 3D environment will appear in a new window. You can navigate through it with the mouse and the WASD keys.\n",
    "\n",
    "Spawning the Nao robot: a robot is created in the simulator by executing the script `usarnaoqicrawl.bat`. The robot is spawned at a pre-defined position, but it falls to the floor.\n",
    "\n",
    "**VERY IMPORTANT**: if the Windows Firewall asks for permission when running the application, you must select **BOTH types of network, private and public**."
   ]
  },
  {
   "cell_type": "code",
   "execution_count": null,
   "metadata": {
    "collapsed": true
   },
   "outputs": [],
   "source": []
  }
 ],
 "metadata": {
  "kernelspec": {
   "display_name": "Python [conda env:py27]",
   "language": "python",
   "name": "conda-env-py27-py"
  },
  "language_info": {
   "codemirror_mode": {
    "name": "ipython",
    "version": 2
   },
   "file_extension": ".py",
   "mimetype": "text/x-python",
   "name": "python",
   "nbconvert_exporter": "python",
   "pygments_lexer": "ipython2",
   "version": "2.7.13"
  }
 },
 "nbformat": 4,
 "nbformat_minor": 2
}
