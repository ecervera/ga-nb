{
 "metadata": {
  "name": ""
 },
 "nbformat": 3,
 "nbformat_minor": 0,
 "worksheets": [
  {
   "cells": [
    {
     "cell_type": "markdown",
     "metadata": {},
     "source": [
      "# Evolution of Robot Crawling\n",
      "\n",
      "Use the Pyevolve plotting functions for generating the following graphs of the evolution process:\n",
      "\n",
      "* Error bars graph (raw scores).\n",
      "* Error bars graph (fitness scores).\n",
      "* Max/min/avg/std. dev. graph (raw scores).\n",
      "* Max/min/avg graph (fitness scores).\n",
      "* Raw and Fitness min/max difference graph."
     ]
    },
    {
     "cell_type": "code",
     "collapsed": false,
     "input": [
      "%matplotlib inline\n",
      "from pyevolve_plot import plot_errorbars_raw, plot_errorbars_fitness, \\\n",
      "                          plot_maxmin_raw, plot_maxmin_fitness, \\\n",
      "                          plot_diff_raw, plot_pop_heatmap_raw"
     ],
     "language": "python",
     "metadata": {},
     "outputs": []
    },
    {
     "cell_type": "code",
     "collapsed": false,
     "input": [
      "plot_errorbars_raw('crawling.db','ex1')"
     ],
     "language": "python",
     "metadata": {},
     "outputs": []
    },
    {
     "cell_type": "code",
     "collapsed": false,
     "input": [
      "plot_errorbars_fitness('crawling.db','ex1')"
     ],
     "language": "python",
     "metadata": {},
     "outputs": []
    },
    {
     "cell_type": "code",
     "collapsed": false,
     "input": [
      "plot_maxmin_raw('crawling.db','ex1')"
     ],
     "language": "python",
     "metadata": {},
     "outputs": []
    },
    {
     "cell_type": "code",
     "collapsed": false,
     "input": [
      "plot_maxmin_fitness('crawling.db','ex1')"
     ],
     "language": "python",
     "metadata": {},
     "outputs": []
    },
    {
     "cell_type": "code",
     "collapsed": false,
     "input": [
      "plot_diff_raw('crawling.db','ex1')"
     ],
     "language": "python",
     "metadata": {},
     "outputs": []
    }
   ],
   "metadata": {}
  }
 ]
}