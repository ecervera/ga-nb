{
 "metadata": {
  "name": ""
 },
 "nbformat": 3,
 "nbformat_minor": 0,
 "worksheets": [
  {
   "cells": [
    {
     "cell_type": "markdown",
     "metadata": {},
     "source": [
      "Create a pynao environment with [Python 2.6.32 bits](http://stackoverflow.com/questions/33709391/using-multiple-python-engines-32bit-64bit-and-2-7-3-5)\n",
      "\n",
      "    set CONDA_FORCE_32BIT=1\n",
      "    conda create -n pynao python=2.6\n",
      "    activate pynao\n",
      "    conda install matplotlib pil ipython pyzmq jinja2 tornado\n",
      "    pip install pyevolve\n",
      "    \n",
      "Execute with:\n",
      "\n",
      "    set CONDA_FORCE_32BIT=1\n",
      "    SET AL_DIR=C:\\UDK\\naoqi-sdk-1.12.5-win32-vs2010\n",
      "    SET PATH=%PATH%;%AL_DIR%\\bin;%AL_DIR%\\lib\n",
      "    SET PYTHONPATH=%AL_DIR%\\lib\n",
      "    activate pynao\n",
      "    ipython notebook Test.ipynb"
     ]
    },
    {
     "cell_type": "code",
     "collapsed": false,
     "input": [
      "import sys\n",
      "sys.path.append('C:\\\\UDK\\\\naoqi-sdk-1.12.5-win32-vs2010\\\\lib')"
     ],
     "language": "python",
     "metadata": {},
     "outputs": [],
     "prompt_number": 1
    },
    {
     "cell_type": "code",
     "collapsed": false,
     "input": [
      "from Nao import Nao"
     ],
     "language": "python",
     "metadata": {},
     "outputs": [],
     "prompt_number": 2
    },
    {
     "cell_type": "code",
     "collapsed": false,
     "input": [
      "nao = Nao()"
     ],
     "language": "python",
     "metadata": {},
     "outputs": [],
     "prompt_number": 3
    },
    {
     "cell_type": "code",
     "collapsed": false,
     "input": [
      "try:\n",
      "    nao.stand_up()\n",
      "    print('Stand up OK')\n",
      "except AttributeError:\n",
      "    print('Ops, you need to manually stand up the robot with Choregraphe at')\n",
      "    print('C:\\Program Files (x86)\\Aldebaran\\Choregraphe 1.12.5.3')\n",
      "    print('First connect to the robot then click on play of the stand_up behavior')"
     ],
     "language": "python",
     "metadata": {},
     "outputs": [
      {
       "output_type": "stream",
       "stream": "stdout",
       "text": [
        "Ops, you need to manually stand up the robot with Choregraphe at\n",
        "C:\\Program Files (x86)\\Aldebaran\\Choregraphe 1.12.5.3\n",
        "First connect to the robot then click on play of the stand_up behavior\n"
       ]
      }
     ],
     "prompt_number": 6
    },
    {
     "cell_type": "code",
     "collapsed": false,
     "input": [
      "nao.initCrawling()"
     ],
     "language": "python",
     "metadata": {},
     "outputs": [],
     "prompt_number": 7
    },
    {
     "cell_type": "code",
     "collapsed": false,
     "input": [
      "nao.getActualPose()"
     ],
     "language": "python",
     "metadata": {},
     "outputs": [
      {
       "metadata": {},
       "output_type": "pyout",
       "prompt_number": 8,
       "text": [
        "'Belly'"
       ]
      }
     ],
     "prompt_number": 8
    },
    {
     "cell_type": "code",
     "collapsed": false,
     "input": [
      "import math\n",
      "nao.crawl([1.28,0.1,0.21,0.,0.035,0.039,-2.,0.12,-0.86,math.pi,0.06,0.33,math.pi/2,0.005,-0.11,-2.,0.008,1.8,0.])"
     ],
     "language": "python",
     "metadata": {},
     "outputs": [
      {
       "metadata": {},
       "output_type": "pyout",
       "prompt_number": 9,
       "text": [
        "0.10488130905897493"
       ]
      }
     ],
     "prompt_number": 9
    },
    {
     "cell_type": "code",
     "collapsed": false,
     "input": [
      "import pyevolve"
     ],
     "language": "python",
     "metadata": {},
     "outputs": [],
     "prompt_number": 10
    },
    {
     "cell_type": "code",
     "collapsed": false,
     "input": [],
     "language": "python",
     "metadata": {},
     "outputs": []
    }
   ],
   "metadata": {}
  }
 ]
}