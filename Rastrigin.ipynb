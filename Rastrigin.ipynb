{
 "cells": [
  {
   "cell_type": "markdown",
   "metadata": {},
   "source": [
    "# The Rastrigin function\n",
    "\n",
    "This notebook is adapted from [a Pyevolve example](http://pyevolve.sourceforge.net/0_6rc1/examples.html#example-7-the-rastrigin-function).\n",
    "\n",
    "[<img src=\"img/Rastrigin_function.png\" align=\"right\" width=320>](http://en.wikipedia.org/wiki/Rastrigin_function)\n",
    "\n",
    "[From Wikipedia, the free encyclopedia](https://en.wikipedia.org/wiki/Rastrigin_function): in mathematical optimization, the Rastrigin function is a non-convex function used as a performance test problem for optimization algorithms. It is a typical example of non-linear multimodal function. It was first proposed by Rastrigin as a 2-dimensional function and has been generalized by Mühlenbein et al. Finding the minimum of this function is a fairly difficult problem due to its large search space and its large number of local minima.\n",
    "\n",
    "Below is the code to minimize the deceptive [Rastrigin function](http://en.wikipedia.org/wiki/Rastrigin_function) in a 20-dimensional space, i.e. with 20 parameters.\n",
    "\n",
    "You should add the necessary statements for storing the results in a database named 'rastrigin.db' with identifier 'ex1', which will be used later for checking the evolution."
   ]
  },
  {
   "cell_type": "code",
   "execution_count": null,
   "metadata": {
    "collapsed": true
   },
   "outputs": [],
   "source": [
    "from pyevolve import GSimpleGA\n",
    "from pyevolve import G1DList\n",
    "from pyevolve import Mutators, Initializators\n",
    "from pyevolve import Selectors\n",
    "from pyevolve import Consts\n",
    "import math"
   ]
  },
  {
   "cell_type": "code",
   "execution_count": null,
   "metadata": {
    "collapsed": true
   },
   "outputs": [],
   "source": [
    "def rastrigin(genome):\n",
    "    n = len(genome)\n",
    "    total = 0\n",
    "    for i in xrange(n):\n",
    "        total += genome[i]**2 - 10*math.cos(2*math.pi*genome[i])\n",
    "    return (10*n) + total"
   ]
  },
  {
   "cell_type": "code",
   "execution_count": null,
   "metadata": {
    "collapsed": true
   },
   "outputs": [],
   "source": [
    "genome = G1DList.G1DList(20)\n",
    "genome.setParams(rangemin=-5.2, rangemax=5.3, bestrawscore=0.0, rounddecimal=1)\n",
    "genome.initializator.set(Initializators.G1DListInitializatorReal)\n",
    "genome.mutator.set(Mutators.G1DListMutatorRealGaussian)\n",
    "genome.evaluator.set(rastrigin)"
   ]
  },
  {
   "cell_type": "code",
   "execution_count": null,
   "metadata": {
    "collapsed": true
   },
   "outputs": [],
   "source": [
    "ga = GSimpleGA.GSimpleGA(genome)\n",
    "ga.terminationCriteria.set(GSimpleGA.RawScoreCriteria)\n",
    "ga.setMinimax(Consts.minimaxType[\"minimize\"])\n",
    "ga.setGenerations(500)\n",
    "ga.setCrossoverRate(0.8)\n",
    "ga.setPopulationSize(100)\n",
    "ga.setMutationRate(0.06)"
   ]
  },
  {
   "cell_type": "code",
   "execution_count": null,
   "metadata": {
    "collapsed": false
   },
   "outputs": [],
   "source": [
    "ga.evolve(freq_stats=50)\n",
    "best = ga.bestIndividual()\n",
    "print best"
   ]
  },
  {
   "cell_type": "markdown",
   "metadata": {
    "collapsed": true
   },
   "source": [
    "You can check now the results by plotting some graphs of the evolution process in [this notebook](Rastrigin_check.ipynb)."
   ]
  }
 ],
 "metadata": {
  "anaconda-cloud": {},
  "kernelspec": {
   "display_name": "Python [conda env:py27]",
   "language": "python",
   "name": "conda-env-py27-py"
  },
  "language_info": {
   "codemirror_mode": {
    "name": "ipython",
    "version": 2
   },
   "file_extension": ".py",
   "mimetype": "text/x-python",
   "name": "python",
   "nbconvert_exporter": "python",
   "pygments_lexer": "ipython2",
   "version": "2.7.12"
  }
 },
 "nbformat": 4,
 "nbformat_minor": 0
}
