{
 "cells": [
  {
   "cell_type": "markdown",
   "metadata": {},
   "source": [
    "# The Travelling Salesperson Problem\n",
    "\n",
    "## Plots\n",
    "\n",
    "Plot the following graphs of the evolution process:\n",
    "* Error bars graph (raw scores).\n",
    "* Error bars graph (fitness scores).\n",
    "* Max/min/avg/std. dev. graph (raw scores).\n",
    "* Max/min/avg/std. dev. graph (fitness scores).\n",
    "* Raw and Fitness min/max difference graph."
   ]
  },
  {
   "cell_type": "code",
   "execution_count": null,
   "metadata": {},
   "outputs": [],
   "source": [
    "%matplotlib inline\n",
    "from pyevolve_plot import plot_errorbars_raw, plot_errorbars_fitness, \\\n",
    "                          plot_maxmin_raw, plot_maxmin_fitness, \\\n",
    "                          plot_diff_raw, plot_pop_heatmap_raw"
   ]
  },
  {
   "cell_type": "code",
   "execution_count": null,
   "metadata": {},
   "outputs": [],
   "source": [
    "plot_errorbars_raw('tsp.db','ex1')"
   ]
  },
  {
   "cell_type": "code",
   "execution_count": null,
   "metadata": {},
   "outputs": [],
   "source": [
    "plot_errorbars_fitness('tsp.db','ex1')"
   ]
  },
  {
   "cell_type": "code",
   "execution_count": null,
   "metadata": {},
   "outputs": [],
   "source": [
    "plot_maxmin_raw('tsp.db','ex1')"
   ]
  },
  {
   "cell_type": "code",
   "execution_count": null,
   "metadata": {},
   "outputs": [],
   "source": [
    "plot_maxmin_fitness('tsp.db','ex1')"
   ]
  },
  {
   "cell_type": "code",
   "execution_count": null,
   "metadata": {},
   "outputs": [],
   "source": [
    "plot_diff_raw('tsp.db','ex1')"
   ]
  },
  {
   "cell_type": "markdown",
   "metadata": {},
   "source": [
    "## Route images\n",
    "\n",
    "Plot the images of the routes stored in the 'tspimg' folder."
   ]
  },
  {
   "cell_type": "code",
   "execution_count": null,
   "metadata": {},
   "outputs": [],
   "source": [
    "import matplotlib.pyplot as plt\n",
    "from PIL import Image"
   ]
  },
  {
   "cell_type": "code",
   "execution_count": null,
   "metadata": {},
   "outputs": [],
   "source": [
    "import glob\n",
    "images = glob.glob(\"tspimg/tsp_result_*.png\")"
   ]
  },
  {
   "cell_type": "code",
   "execution_count": null,
   "metadata": {},
   "outputs": [],
   "source": [
    "for im in images:\n",
    "    tsp_result = Image.open(im)\n",
    "    print(\"Generation %d\" % int(im[18:-4]))\n",
    "    plt.imshow(tsp_result)\n",
    "    plt.show()"
   ]
  },
  {
   "cell_type": "code",
   "execution_count": null,
   "metadata": {},
   "outputs": [],
   "source": [
    "print('Final best individual')\n",
    "tsp_result = Image.open('tspimg/tsp_result.png')\n",
    "plt.imshow(tsp_result);"
   ]
  },
  {
   "cell_type": "code",
   "execution_count": null,
   "metadata": {},
   "outputs": [],
   "source": []
  }
 ],
 "metadata": {
  "anaconda-cloud": {},
  "kernelspec": {
   "display_name": "Python 3",
   "language": "python",
   "name": "python3"
  },
  "language_info": {
   "codemirror_mode": {
    "name": "ipython",
    "version": 3
   },
   "file_extension": ".py",
   "mimetype": "text/x-python",
   "name": "python",
   "nbconvert_exporter": "python",
   "pygments_lexer": "ipython3",
   "version": "3.8.10"
  }
 },
 "nbformat": 4,
 "nbformat_minor": 1
}
