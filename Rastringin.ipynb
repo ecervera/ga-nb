{
 "cells": [
  {
   "cell_type": "markdown",
   "metadata": {},
   "source": [
    "Execute this code to minimize the deceptive [Rastringin function](http://en.wikipedia.org/wiki/Rastrigin_function) with 20 variables."
   ]
  },
  {
   "cell_type": "code",
   "execution_count": 5,
   "metadata": {
    "collapsed": true
   },
   "outputs": [],
   "source": [
    "from pyevolve import GSimpleGA\n",
    "from pyevolve import G1DList\n",
    "from pyevolve import Mutators, Initializators\n",
    "from pyevolve import Selectors\n",
    "from pyevolve import Consts\n",
    "from pyevolve import DBAdapters\n",
    "import math"
   ]
  },
  {
   "cell_type": "code",
   "execution_count": 6,
   "metadata": {
    "collapsed": true
   },
   "outputs": [],
   "source": [
    "# This is the Rastrigin Function, a deception function\n",
    "def rastrigin(genome):\n",
    "    n = len(genome)\n",
    "    total = 0\n",
    "    for i in xrange(n):\n",
    "        total += genome[i]**2 - 10*math.cos(2*math.pi*genome[i])\n",
    "    return (10*n) + total"
   ]
  },
  {
   "cell_type": "code",
   "execution_count": 7,
   "metadata": {
    "collapsed": false
   },
   "outputs": [
    {
     "name": "stdout",
     "output_type": "stream",
     "text": [
      "Gen. 0 (0.00%): Max/Min/Avg Fitness(Raw) [450.89(480.16)/300.08(270.62)/375.74(375.74)]\n",
      "Gen. 50 (1.67%): Max/Min/Avg Fitness(Raw) [18.81(29.21)/13.39(5.82)/15.68(15.68)]\n",
      "Gen. 100 (3.33%): Max/Min/Avg Fitness(Raw) [13.19(22.94)/9.00(0.14)/10.99(10.99)]\n",
      "Gen. 150 (5.00%): Max/Min/Avg Fitness(Raw) [13.44(23.00)/9.08(0.03)/11.20(11.20)]\n",
      "Gen. 200 (6.67%): Max/Min/Avg Fitness(Raw) [12.90(22.18)/8.73(0.01)/10.75(10.75)]\n",
      "Gen. 250 (8.33%): Max/Min/Avg Fitness(Raw) [11.80(25.79)/8.62(0.01)/9.83(9.83)]\n",
      "Gen. 300 (10.00%): Max/Min/Avg Fitness(Raw) [12.16(21.75)/8.37(0.01)/10.13(10.13)]\n",
      "Gen. 350 (11.67%): Max/Min/Avg Fitness(Raw) [13.89(22.24)/9.07(0.01)/11.57(11.57)]\n",
      "\n",
      "\tEvolution stopped by Termination Criteria function !\n",
      "\n",
      "Gen. 357 (11.90%): Max/Min/Avg Fitness(Raw) [13.11(22.20)/8.81(0.00)/10.92(10.92)]\n",
      "Total time elapsed: 4.963 seconds.\n",
      "- GenomeBase\n",
      "\tScore:\t\t\t 0.003871\n",
      "\tFitness:\t\t 8.806012\n",
      "\n",
      "\tParams:\t\t {'rounddecimal': 2, 'bestrawscore': 0.0, 'rangemax': 5.3, 'rangemin': -5.2}\n",
      "\n",
      "\tSlot [Evaluator] (Count: 1)\n",
      "\t\tName: rastrigin - Weight: 0.50\n",
      "\tSlot [Initializator] (Count: 1)\n",
      "\t\tName: G1DListInitializatorReal - Weight: 0.50\n",
      "\t\tDoc:  Real initialization function of G1DList\n",
      "\n",
      "   This initializator accepts the *rangemin* and *rangemax* genome parameters.\n",
      "\n",
      "   \n",
      "\tSlot [Mutator] (Count: 1)\n",
      "\t\tName: G1DListMutatorRealGaussian - Weight: 0.50\n",
      "\t\tDoc:  The mutator of G1DList, Gaussian Mutator\n",
      "\n",
      "   Accepts the *rangemin* and *rangemax* genome parameters, both optional. Also\n",
      "   accepts the parameter *gauss_mu* and the *gauss_sigma* which respectively\n",
      "   represents the mean and the std. dev. of the random distribution.\n",
      "\n",
      "   \n",
      "\tSlot [Crossover] (Count: 1)\n",
      "\t\tName: G1DListCrossoverSinglePoint - Weight: 0.50\n",
      "\t\tDoc:  The crossover of G1DList, Single Point\n",
      "\n",
      "   .. warning:: You can't use this crossover method for lists with just one element.\n",
      "\n",
      "   \n",
      "\n",
      "- G1DList\n",
      "\tList size:\t 20\n",
      "\tList:\t\t [-0.00023372940102996793, -5.8943670079957336e-05, 0.0005324010636165166, -0.0006775911462529953, 0.0012950716854067366, 0.000466563335181925, -0.00011622889159577997, 0.00020494570720924516, 8.623957296935523e-05, 0.000867030291821563, -0.001965116836745221, -0.0007327923875781147, 0.0007816973297523639, 1.4698029452402811e-05, -0.0030113408994341274, 0.0004490163673331561, 0.00032334672905854137, -0.00038156150384639786, 0.0006380030634618727, 0.0010312058712853725]\n",
      "\n",
      "\n"
     ]
    }
   ],
   "source": [
    "# Genome instance\n",
    "genome = G1DList.G1DList(20)\n",
    "genome.setParams(rangemin=-5.2, rangemax=5.30, bestrawscore=0.00, rounddecimal=2)\n",
    "genome.initializator.set(Initializators.G1DListInitializatorReal)\n",
    "genome.mutator.set(Mutators.G1DListMutatorRealGaussian)\n",
    "\n",
    "genome.evaluator.set(rastrigin)\n",
    "\n",
    "# Genetic Algorithm Instance\n",
    "ga = GSimpleGA.GSimpleGA(genome)\n",
    "ga.terminationCriteria.set(GSimpleGA.RawScoreCriteria)\n",
    "ga.setMinimax(Consts.minimaxType[\"minimize\"])\n",
    "ga.setGenerations(3000)\n",
    "ga.setCrossoverRate(0.8)\n",
    "ga.setPopulationSize(100)\n",
    "ga.setMutationRate(0.06)\n",
    "\n",
    "sqlite_adapter = DBAdapters.DBSQLite(identify=\"ex1\", resetDB=True)\n",
    "ga.setDBAdapter(sqlite_adapter)\n",
    "\n",
    "ga.evolve(freq_stats=50)\n",
    "\n",
    "best = ga.bestIndividual()\n",
    "print best"
   ]
  },
  {
   "cell_type": "markdown",
   "metadata": {},
   "source": [
    "Use the plotting tool for generating the following graphs of the evolution process:\n",
    "\n",
    "* Error bars graph (raw scores).\n",
    "* Error bars graph (fitness scores).\n",
    "* Max/min/avg/std. dev. graph (raw scores).\n",
    "* Max/min/avg graph (fitness scores).\n",
    "* Raw and Fitness min/max difference graph."
   ]
  },
  {
   "cell_type": "code",
   "execution_count": 9,
   "metadata": {
    "collapsed": false
   },
   "outputs": [
    {
     "name": "stdout",
     "output_type": "stream",
     "text": [
      "Pyevolve 0.6rc1 - Graph Plot Tool\n",
      "By Christian S. Perone\n",
      "\n",
      "Loading modules....\n",
      "Loading database and creating graph...\n",
      "358 generations found !\n"
     ]
    }
   ],
   "source": [
    "!python pyevolve_graph.py -i ex1 -1"
   ]
  },
  {
   "cell_type": "code",
   "execution_count": 10,
   "metadata": {
    "collapsed": false
   },
   "outputs": [
    {
     "name": "stdout",
     "output_type": "stream",
     "text": [
      "Pyevolve 0.6rc1 - Graph Plot Tool\n",
      "By Christian S. Perone\n",
      "\n",
      "Loading modules....\n",
      "Loading database and creating graph...\n",
      "358 generations found !\n"
     ]
    }
   ],
   "source": [
    "!python pyevolve_graph.py -i ex1 -2"
   ]
  },
  {
   "cell_type": "code",
   "execution_count": 11,
   "metadata": {
    "collapsed": false
   },
   "outputs": [
    {
     "name": "stdout",
     "output_type": "stream",
     "text": [
      "Pyevolve 0.6rc1 - Graph Plot Tool\n",
      "By Christian S. Perone\n",
      "\n",
      "Loading modules....\n",
      "Loading database and creating graph...\n",
      "358 generations found !\n"
     ]
    }
   ],
   "source": [
    "!python pyevolve_graph.py -i ex1 -3"
   ]
  },
  {
   "cell_type": "code",
   "execution_count": 12,
   "metadata": {
    "collapsed": false
   },
   "outputs": [
    {
     "name": "stdout",
     "output_type": "stream",
     "text": [
      "Pyevolve 0.6rc1 - Graph Plot Tool\n",
      "By Christian S. Perone\n",
      "\n",
      "Loading modules....\n",
      "Loading database and creating graph...\n",
      "358 generations found !\n"
     ]
    }
   ],
   "source": [
    "!python pyevolve_graph.py -i ex1 -4"
   ]
  },
  {
   "cell_type": "code",
   "execution_count": 13,
   "metadata": {
    "collapsed": false
   },
   "outputs": [
    {
     "name": "stdout",
     "output_type": "stream",
     "text": [
      "Pyevolve 0.6rc1 - Graph Plot Tool\n",
      "By Christian S. Perone\n",
      "\n",
      "Loading modules....\n",
      "Loading database and creating graph...\n",
      "358 generations found !\n"
     ]
    }
   ],
   "source": [
    "!python pyevolve_graph.py -i ex1 -5"
   ]
  },
  {
   "cell_type": "code",
   "execution_count": null,
   "metadata": {
    "collapsed": true
   },
   "outputs": [],
   "source": []
  }
 ],
 "metadata": {
  "anaconda-cloud": {},
  "kernelspec": {
   "display_name": "Python [conda env:py27]",
   "language": "python",
   "name": "conda-env-py27-py"
  },
  "language_info": {
   "codemirror_mode": {
    "name": "ipython",
    "version": 2
   },
   "file_extension": ".py",
   "mimetype": "text/x-python",
   "name": "python",
   "nbconvert_exporter": "python",
   "pygments_lexer": "ipython2",
   "version": "2.7.12"
  }
 },
 "nbformat": 4,
 "nbformat_minor": 0
}
