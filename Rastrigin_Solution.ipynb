{
 "cells": [
  {
   "cell_type": "markdown",
   "metadata": {},
   "source": [
    "# The Rastrigin function\n",
    "\n",
    "Below is the code to minimize the deceptive [Rastrigin function](http://en.wikipedia.org/wiki/Rastrigin_function) with 20 variables.\n",
    "\n",
    "[<img src=\"img/Rastrigin_function.png\" align=\"right\" width=320>](http://en.wikipedia.org/wiki/Rastrigin_function)\n",
    "\n",
    "You should add the necessary statements for storing the results in a database and plotting the following graphs of the evolution process:\n",
    "* Error bars graph (raw scores).\n",
    "* Error bars graph (fitness scores).\n",
    "* Max/min/avg/std. dev. graph (raw scores).\n",
    "* Max/min/avg/std. dev. graph (fitness scores).\n",
    "* Raw and Fitness min/max difference graph.\n",
    "* Heat map of population raw score distribution."
   ]
  },
  {
   "cell_type": "code",
   "execution_count": null,
   "metadata": {
    "collapsed": true
   },
   "outputs": [],
   "source": [
    "from pyevolve import GSimpleGA\n",
    "from pyevolve import G1DList\n",
    "from pyevolve import Mutators, Initializators\n",
    "from pyevolve import Selectors\n",
    "from pyevolve import Consts\n",
    "from pyevolve import DBAdapters\n",
    "import math"
   ]
  },
  {
   "cell_type": "code",
   "execution_count": null,
   "metadata": {
    "collapsed": true
   },
   "outputs": [],
   "source": [
    "def rastrigin(genome):\n",
    "    n = len(genome)\n",
    "    total = 0\n",
    "    for i in xrange(n):\n",
    "        total += genome[i]**2 - 10*math.cos(2*math.pi*genome[i])\n",
    "    return (10*n) + total"
   ]
  },
  {
   "cell_type": "code",
   "execution_count": null,
   "metadata": {
    "collapsed": true
   },
   "outputs": [],
   "source": [
    "genome = G1DList.G1DList(20)\n",
    "genome.setParams(rangemin=-5.2, rangemax=5.3, bestrawscore=0.0, rounddecimal=1)\n",
    "genome.initializator.set(Initializators.G1DListInitializatorReal)\n",
    "genome.mutator.set(Mutators.G1DListMutatorRealGaussian)\n",
    "genome.evaluator.set(rastrigin)"
   ]
  },
  {
   "cell_type": "code",
   "execution_count": null,
   "metadata": {
    "collapsed": true
   },
   "outputs": [],
   "source": [
    "ga = GSimpleGA.GSimpleGA(genome)\n",
    "ga.terminationCriteria.set(GSimpleGA.RawScoreCriteria)\n",
    "ga.setMinimax(Consts.minimaxType[\"minimize\"])\n",
    "ga.setGenerations(3000)\n",
    "ga.setCrossoverRate(0.8)\n",
    "ga.setPopulationSize(100)\n",
    "ga.setMutationRate(0.06)"
   ]
  },
  {
   "cell_type": "code",
   "execution_count": null,
   "metadata": {
    "collapsed": true
   },
   "outputs": [],
   "source": [
    "sqlite_adapter = DBAdapters.DBSQLite(dbname='rastringin.db', identify=\"ex1\", resetDB=True)\n",
    "ga.setDBAdapter(sqlite_adapter)"
   ]
  },
  {
   "cell_type": "code",
   "execution_count": null,
   "metadata": {
    "collapsed": false
   },
   "outputs": [],
   "source": [
    "ga.evolve(freq_stats=50)\n",
    "best = ga.bestIndividual()\n",
    "print best"
   ]
  },
  {
   "cell_type": "code",
   "execution_count": null,
   "metadata": {
    "collapsed": true
   },
   "outputs": [],
   "source": [
    "%matplotlib inline\n",
    "import matplotlib.pyplot as plt\n",
    "\n",
    "from pyevolve_plot import plot_errorbars_raw, plot_errorbars_fitness, \\\n",
    "                          plot_maxmin_raw, plot_maxmin_fitness, \\\n",
    "                          plot_diff_raw, plot_pop_heatmap_raw"
   ]
  },
  {
   "cell_type": "code",
   "execution_count": null,
   "metadata": {
    "collapsed": false
   },
   "outputs": [],
   "source": [
    "plot_errorbars_raw('rastringin.db','ex1')"
   ]
  },
  {
   "cell_type": "code",
   "execution_count": null,
   "metadata": {
    "collapsed": false
   },
   "outputs": [],
   "source": [
    "plot_errorbars_fitness('rastringin.db','ex1')"
   ]
  },
  {
   "cell_type": "code",
   "execution_count": null,
   "metadata": {
    "collapsed": false
   },
   "outputs": [],
   "source": [
    "plot_maxmin_raw('rastringin.db','ex1')"
   ]
  },
  {
   "cell_type": "code",
   "execution_count": null,
   "metadata": {
    "collapsed": false
   },
   "outputs": [],
   "source": [
    "plot_maxmin_fitness('rastringin.db','ex1')"
   ]
  },
  {
   "cell_type": "code",
   "execution_count": null,
   "metadata": {
    "collapsed": false
   },
   "outputs": [],
   "source": [
    "plot_diff_raw('rastringin.db','ex1')"
   ]
  },
  {
   "cell_type": "code",
   "execution_count": null,
   "metadata": {
    "collapsed": false
   },
   "outputs": [],
   "source": [
    "plot_pop_heatmap_raw('rastringin.db','ex1')"
   ]
  },
  {
   "cell_type": "code",
   "execution_count": null,
   "metadata": {
    "collapsed": true
   },
   "outputs": [],
   "source": []
  }
 ],
 "metadata": {
  "anaconda-cloud": {},
  "kernelspec": {
   "display_name": "Python [conda env:py27]",
   "language": "python",
   "name": "conda-env-py27-py"
  },
  "language_info": {
   "codemirror_mode": {
    "name": "ipython",
    "version": 2
   },
   "file_extension": ".py",
   "mimetype": "text/x-python",
   "name": "python",
   "nbconvert_exporter": "python",
   "pygments_lexer": "ipython2",
   "version": "2.7.12"
  }
 },
 "nbformat": 4,
 "nbformat_minor": 0
}
