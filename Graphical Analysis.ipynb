{
 "cells": [
  {
   "cell_type": "markdown",
   "metadata": {},
   "source": [
    "<img src=\"img/graph_3_ex1.png\" align=\"right\" width=320>\n",
    "# Graphical Analysis\n",
    "\n",
    "Pyevolve comes with a Graphical Plotting Tool, based on the [Matplotlib plotting library](http://matplotlib.org/).\n",
    "\n",
    "To use this graphical plotting tool, you need to use the [DBAdapters.DBSQLite](http://pyevolve.sourceforge.net/0_6rc1/module_dbadapters.html) adapter and create a database file, where the population of each generation is stored.\n",
    "\n",
    "We are going to extend the first example with the database and graphical output."
   ]
  },
  {
   "cell_type": "code",
   "execution_count": 1,
   "metadata": {},
   "outputs": [],
   "source": [
    "from pyevolve import G1DList, GSimpleGA\n",
    "from pyevolve import DBAdapters"
   ]
  },
  {
   "cell_type": "code",
   "execution_count": 2,
   "metadata": {},
   "outputs": [],
   "source": [
    "def eval_func(chromosome):\n",
    "    score = 0.0\n",
    "    for value in chromosome:\n",
    "        if value==0:\n",
    "            score += 1.0\n",
    "    return score"
   ]
  },
  {
   "cell_type": "code",
   "execution_count": 3,
   "metadata": {},
   "outputs": [],
   "source": [
    "genome = G1DList.G1DList(20)\n",
    "genome.evaluator.set(eval_func)\n",
    "genome.setParams(rangemin=0, rangemax=10)"
   ]
  },
  {
   "cell_type": "markdown",
   "metadata": {},
   "source": [
    "The database adapter is defined in the following cell. The database is stored in a file, and the elements need a specific identifier. We will use always the same identifier, but you could change it if you want to save different evolutions in the same database. The parameter <tt>resetDB</tt> is set for deleting any existing data in the database."
   ]
  },
  {
   "cell_type": "code",
   "execution_count": 4,
   "metadata": {},
   "outputs": [],
   "source": [
    "sqlite_adapter = DBAdapters.DBSQLite(dbname='first_example.db', identify=\"ex1\", resetDB=True)"
   ]
  },
  {
   "cell_type": "markdown",
   "metadata": {},
   "source": [
    "When you run your GA, all the statistics will be dumped to this database. When you use the graph tool, it will read the statistics from this database file.\n",
    "\n",
    "Let's evolve the example. Now, instead of evolving step by step, we will set a number of generations for completing the evolution with a single call to <tt>ga.evolve</tt>."
   ]
  },
  {
   "cell_type": "code",
   "execution_count": 5,
   "metadata": {},
   "outputs": [
    {
     "name": "stdout",
     "output_type": "stream",
     "text": [
      "Gen. 0 (0.00%): Max/Min/Avg Fitness(Raw)             [1.91(6.00)/1.47(0.00)/1.59(1.59)]\n",
      "Gen. 5 (25.00%): Max/Min/Avg Fitness(Raw)             [9.60(10.00)/6.40(6.00)/8.00(8.00)]\n",
      "Gen. 10 (50.00%): Max/Min/Avg Fitness(Raw)             [14.00(14.00)/14.00(14.00)/14.00(14.00)]\n",
      "Gen. 15 (75.00%): Max/Min/Avg Fitness(Raw)             [19.00(19.00)/19.00(19.00)/19.00(19.00)]\n",
      "Gen. 20 (100.00%): Max/Min/Avg Fitness(Raw)             [20.00(20.00)/20.00(20.00)/20.00(20.00)]\n",
      "Total time elapsed: 0.043 seconds.\n",
      "Generation: 20\n",
      "\tBest individual: [0, 0, 0, 0, 0, 0, 0, 0, 0, 0, 0, 0, 0, 0, 0, 0, 0, 0, 0, 0]\n",
      "\tBest score: 20\n"
     ]
    }
   ],
   "source": [
    "ga = GSimpleGA.GSimpleGA(genome)\n",
    "ga.setDBAdapter(sqlite_adapter)\n",
    "ga.setGenerations(20)\n",
    "ga.evolve(freq_stats=5)\n",
    "print(\"Generation: %d\" % ga.currentGeneration)\n",
    "best = ga.bestIndividual()\n",
    "print('\\tBest individual: %s' % str(best.genomeList))\n",
    "print('\\tBest score: %.0f' % best.score)"
   ]
  },
  {
   "cell_type": "markdown",
   "metadata": {},
   "source": [
    "## Plotting\n",
    "\n",
    "Here are described the main graph types. Usually you can choose to plot the **raw** or **fitness** score, which are defined as:\n",
    "* The raw score represents the score returned by the [Evaluation function](http://pyevolve.sourceforge.net/0_6rc1/intro.html#term-evaluation-function), this score is not scaled.\n",
    "* The fitness score is the scaled raw score, for example, if you use the Linear Scaling ([Scaling.LinearScaling()](http://pyevolve.sourceforge.net/0_6rc1/module_scaling.html?highlight=scaling#Scaling.LinearScaling)), the fitness score will be the raw score scaled with the Linear Scaling method. The fitness score represents how good is the individual relative to our population."
   ]
  },
  {
   "cell_type": "code",
   "execution_count": 6,
   "metadata": {},
   "outputs": [
    {
     "ename": "SyntaxError",
     "evalue": "invalid syntax (pyevolve_plot.py, line 75)",
     "output_type": "error",
     "traceback": [
      "Traceback \u001b[0;36m(most recent call last)\u001b[0m:\n",
      "  File \u001b[1;32m\"/home/ecervera/.local/lib/python3.8/site-packages/IPython/core/interactiveshell.py\"\u001b[0m, line \u001b[1;32m3444\u001b[0m, in \u001b[1;35mrun_code\u001b[0m\n    exec(code_obj, self.user_global_ns, self.user_ns)\n",
      "\u001b[0;36m  File \u001b[0;32m\"/tmp/ipykernel_50457/1031172132.py\"\u001b[0;36m, line \u001b[0;32m2\u001b[0;36m, in \u001b[0;35m<module>\u001b[0;36m\u001b[0m\n\u001b[0;31m    from pyevolve_plot import plot_errorbars_raw, plot_errorbars_fitness, \\\u001b[0m\n",
      "\u001b[0;36m  File \u001b[0;32m\"/home/ecervera/Escritorio/Ei1028/ga-nb/pyevolve_plot.py\"\u001b[0;36m, line \u001b[0;32m75\u001b[0m\n\u001b[0;31m    print \"Graph saved to %s file !\" % (filesave,)\u001b[0m\n\u001b[0m          ^\u001b[0m\n\u001b[0;31mSyntaxError\u001b[0m\u001b[0;31m:\u001b[0m invalid syntax\n"
     ]
    }
   ],
   "source": [
    "%matplotlib inline\n",
    "from pyevolve_plot import plot_errorbars_raw, plot_errorbars_fitness, \\\n",
    "                          plot_maxmin_raw, plot_maxmin_fitness, \\\n",
    "                          plot_diff_raw, plot_pop_heatmap_raw"
   ]
  },
  {
   "cell_type": "markdown",
   "metadata": {},
   "source": [
    "### Error bars graph (raw scores)\n",
    "\n",
    "In this graph, you will find the generations on the x-axis and the raw scores on the y-axis. The green vertical bars represents the maximum and the minimum raw scores of the current population at generation indicated in the x-axis. The blue line between them is the average raw score of the population."
   ]
  },
  {
   "cell_type": "code",
   "execution_count": null,
   "metadata": {},
   "outputs": [],
   "source": [
    "plot_errorbars_raw('first_example.db','ex1')"
   ]
  },
  {
   "cell_type": "markdown",
   "metadata": {},
   "source": [
    "### Error bars graph (fitness scores)\n",
    "\n",
    "The differente between this graph option and the previous one is that we are using the fitness scores instead of the raw scores."
   ]
  },
  {
   "cell_type": "code",
   "execution_count": null,
   "metadata": {},
   "outputs": [],
   "source": [
    "plot_errorbars_fitness('first_example.db','ex1')"
   ]
  },
  {
   "cell_type": "markdown",
   "metadata": {},
   "source": [
    "### Max/min/avg/std. dev. graph (raw scores)\n",
    "\n",
    "In this graph we have the green line showing the maximum raw score at the generation in the x-axis, the red line shows the minimum raw score, and the blue line shows the average raw scores. The green shaded region represents the difference between our max. and min. raw scores. The black line shows the standard deviation of the average raw scores. We also have some annotations like the maximum raw score, maximum std. dev. and the min std. dev."
   ]
  },
  {
   "cell_type": "code",
   "execution_count": null,
   "metadata": {},
   "outputs": [],
   "source": [
    "plot_maxmin_raw('first_example.db','ex1')"
   ]
  },
  {
   "cell_type": "markdown",
   "metadata": {},
   "source": [
    "### Max/min/avg/std. dev. graph (fitness  scores)\n",
    "\n",
    "This graphs shows the maximum fitness score from the population at the x-axis generation using the green line. The red line shows the minimum fitness score and the blue line shows the average fitness score from the population. The green shaded region between the green and red line shows the difference between the best and worst individual of population."
   ]
  },
  {
   "cell_type": "code",
   "execution_count": null,
   "metadata": {},
   "outputs": [],
   "source": [
    "plot_maxmin_fitness('first_example.db','ex1')"
   ]
  },
  {
   "cell_type": "markdown",
   "metadata": {},
   "source": [
    "### Min/max difference graph, raw and fitness scores\n",
    "\n",
    "In this graph, we have two subplots, the first is the difference between the best individual raw score and the worst individual raw score. The second graph shows the difference between the best individual fitness score and the worst individual fitness score. Both subplots show the generation on the x-axis and the score difference in the y-axis."
   ]
  },
  {
   "cell_type": "code",
   "execution_count": null,
   "metadata": {},
   "outputs": [],
   "source": [
    "plot_diff_raw('first_example.db','ex1')"
   ]
  },
  {
   "cell_type": "markdown",
   "metadata": {},
   "source": [
    "### Heat map of population raw score distribution\n",
    "\n",
    "The heat map graph is a plot with the population individual plotted as the x-axis and the generation plotted in the y-axis. On the right side we have a legend with the color/score relation. As you can see, on the initial populations, the last individals scores are the worst (represented in this colormap with the dark blue). To create this graph, we use the Gaussian interpolation method."
   ]
  },
  {
   "cell_type": "code",
   "execution_count": null,
   "metadata": {},
   "outputs": [],
   "source": [
    "plot_pop_heatmap_raw('first_example.db','ex1')"
   ]
  },
  {
   "cell_type": "code",
   "execution_count": null,
   "metadata": {
    "collapsed": true
   },
   "outputs": [],
   "source": []
  }
 ],
 "metadata": {
  "anaconda-cloud": {},
  "kernelspec": {
   "display_name": "Python 3 (ipykernel)",
   "language": "python",
   "name": "python3"
  },
  "language_info": {
   "codemirror_mode": {
    "name": "ipython",
    "version": 3
   },
   "file_extension": ".py",
   "mimetype": "text/x-python",
   "name": "python",
   "nbconvert_exporter": "python",
   "pygments_lexer": "ipython3",
   "version": "3.8.10"
  }
 },
 "nbformat": 4,
 "nbformat_minor": 1
}
