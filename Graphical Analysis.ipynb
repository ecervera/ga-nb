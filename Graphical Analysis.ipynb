{
 "cells": [
  {
   "cell_type": "markdown",
   "metadata": {},
   "source": [
    "[Tutorial](http://pyevolve.sourceforge.net/0_6rc1/getstarted.html#first-example)"
   ]
  },
  {
   "cell_type": "code",
   "execution_count": 1,
   "metadata": {
    "collapsed": true
   },
   "outputs": [],
   "source": [
    "from pyevolve import G1DList, GSimpleGA\n",
    "from pyevolve import DBAdapters"
   ]
  },
  {
   "cell_type": "code",
   "execution_count": 2,
   "metadata": {
    "collapsed": true
   },
   "outputs": [],
   "source": [
    "x = [1, 2, 3, 8, 0, 2, 0, 4, 1, 0]"
   ]
  },
  {
   "cell_type": "code",
   "execution_count": 3,
   "metadata": {
    "collapsed": true
   },
   "outputs": [],
   "source": [
    "# This function is the evaluation function, we want\n",
    "# to give high score to more zero'ed chromosomes\n",
    "def eval_func(chromosome):\n",
    "    score = 0.0\n",
    "\n",
    "    # iterate over the chromosome elements (items)\n",
    "    for value in chromosome:\n",
    "        if value==0:\n",
    "            score += 1.0\n",
    "\n",
    "    return score"
   ]
  },
  {
   "cell_type": "code",
   "execution_count": 4,
   "metadata": {
    "collapsed": false
   },
   "outputs": [],
   "source": [
    "# Genome instance\n",
    "genome = G1DList.G1DList(20)\n",
    "\n",
    "# The evaluator function (objective function)\n",
    "genome.evaluator.set(eval_func)"
   ]
  },
  {
   "cell_type": "code",
   "execution_count": 5,
   "metadata": {
    "collapsed": true
   },
   "outputs": [],
   "source": [
    "genome.setParams(rangemin=0, rangemax=10)"
   ]
  },
  {
   "cell_type": "code",
   "execution_count": 6,
   "metadata": {
    "collapsed": false
   },
   "outputs": [],
   "source": [
    "ga = GSimpleGA.GSimpleGA(genome)"
   ]
  },
  {
   "cell_type": "code",
   "execution_count": 7,
   "metadata": {
    "collapsed": true
   },
   "outputs": [],
   "source": [
    "sqlite_adapter = DBAdapters.DBSQLite(dbname='pyevolve.db', identify=\"ex1\", resetDB=True)\n",
    "ga.setDBAdapter(sqlite_adapter)"
   ]
  },
  {
   "cell_type": "code",
   "execution_count": 8,
   "metadata": {
    "collapsed": false
   },
   "outputs": [
    {
     "name": "stdout",
     "output_type": "stream",
     "text": [
      "Gen. 0 (0.00%): Max/Min/Avg Fitness(Raw) [2.16(6.00)/1.65(0.00)/1.80(1.80)]\n",
      "Gen. 10 (10.00%): Max/Min/Avg Fitness(Raw) [18.00(16.00)/12.00(14.00)/15.00(15.00)]\n",
      "Gen. 20 (20.00%): Max/Min/Avg Fitness(Raw) [20.00(20.00)/20.00(20.00)/20.00(20.00)]\n",
      "Gen. 30 (30.00%): Max/Min/Avg Fitness(Raw) [20.00(20.00)/20.00(20.00)/20.00(20.00)]\n",
      "Gen. 40 (40.00%): Max/Min/Avg Fitness(Raw) [20.00(20.00)/20.00(20.00)/20.00(20.00)]\n",
      "Gen. 50 (50.00%): Max/Min/Avg Fitness(Raw) [20.00(20.00)/20.00(20.00)/20.00(20.00)]\n",
      "Gen. 60 (60.00%): Max/Min/Avg Fitness(Raw) [20.00(20.00)/20.00(20.00)/20.00(20.00)]\n",
      "Gen. 70 (70.00%): Max/Min/Avg Fitness(Raw) [20.00(20.00)/20.00(20.00)/20.00(20.00)]\n",
      "Gen. 80 (80.00%): Max/Min/Avg Fitness(Raw) [20.00(20.00)/20.00(20.00)/20.00(20.00)]\n",
      "Gen. 90 (90.00%): Max/Min/Avg Fitness(Raw) [20.00(20.00)/20.00(20.00)/20.00(20.00)]\n",
      "Gen. 100 (100.00%): Max/Min/Avg Fitness(Raw) [20.00(20.00)/20.00(20.00)/20.00(20.00)]\n",
      "Total time elapsed: 1.197 seconds.\n"
     ]
    },
    {
     "data": {
      "text/plain": [
       "- GenomeBase\n",
       "\tScore:\t\t\t 20.000000\n",
       "\tFitness:\t\t 20.000000\n",
       "\n",
       "\tParams:\t\t {'rangemax': 10, 'rangemin': 0}\n",
       "\n",
       "\tSlot [Evaluator] (Count: 1)\n",
       "\t\tName: eval_func - Weight: 0.50\n",
       "\tSlot [Initializator] (Count: 1)\n",
       "\t\tName: G1DListInitializatorInteger - Weight: 0.50\n",
       "\t\tDoc:  Integer initialization function of G1DList\n",
       "\n",
       "   This initializator accepts the *rangemin* and *rangemax* genome parameters.\n",
       "\n",
       "   \n",
       "\tSlot [Mutator] (Count: 1)\n",
       "\t\tName: G1DListMutatorSwap - Weight: 0.50\n",
       "\t\tDoc:  The mutator of G1DList, Swap Mutator\n",
       "   \n",
       "   .. note:: this mutator is :term:`Data Type Independent`\n",
       "\n",
       "   \n",
       "\tSlot [Crossover] (Count: 1)\n",
       "\t\tName: G1DListCrossoverSinglePoint - Weight: 0.50\n",
       "\t\tDoc:  The crossover of G1DList, Single Point\n",
       "\n",
       "   .. warning:: You can't use this crossover method for lists with just one element.\n",
       "\n",
       "   \n",
       "\n",
       "- G1DList\n",
       "\tList size:\t 20\n",
       "\tList:\t\t [0, 0, 0, 0, 0, 0, 0, 0, 0, 0, 0, 0, 0, 0, 0, 0, 0, 0, 0, 0]\n"
      ]
     },
     "execution_count": 8,
     "metadata": {},
     "output_type": "execute_result"
    }
   ],
   "source": [
    "# Do the evolution, with stats dump\n",
    "# frequency of 10 generations\n",
    "ga.evolve(freq_stats=10)"
   ]
  },
  {
   "cell_type": "code",
   "execution_count": 9,
   "metadata": {
    "collapsed": false
   },
   "outputs": [
    {
     "name": "stdout",
     "output_type": "stream",
     "text": [
      "Pyevolve 0.6rc1 - Graph Plot Tool\n",
      "By Christian S. Perone\n",
      "\n",
      "Loading modules....\n",
      "Loading database and creating graph...\n",
      "100 generations found !\n"
     ]
    }
   ],
   "source": [
    "!python pyevolve_graph.py -f pyevolve.db -i ex1 -1"
   ]
  },
  {
   "cell_type": "code",
   "execution_count": 10,
   "metadata": {
    "collapsed": false
   },
   "outputs": [],
   "source": [
    "import pyevolve.Interaction as it\n",
    "%matplotlib inline"
   ]
  },
  {
   "cell_type": "code",
   "execution_count": 12,
   "metadata": {
    "collapsed": true
   },
   "outputs": [],
   "source": [
    "population = ga.getPopulation()"
   ]
  },
  {
   "cell_type": "code",
   "execution_count": 13,
   "metadata": {
    "collapsed": false
   },
   "outputs": [
    {
     "name": "stderr",
     "output_type": "stream",
     "text": [
      "C:\\Anaconda2\\lib\\site-packages\\matplotlib\\mlab.py:1587: RuntimeWarning: divide by zero encountered in double_scalars\n",
      "  return 1./(np.sqrt(2*np.pi)*sigma)*np.exp(-0.5 * (1./sigma*(x - mu))**2)\n",
      "C:\\Anaconda2\\lib\\site-packages\\matplotlib\\mlab.py:1587: RuntimeWarning: invalid value encountered in multiply\n",
      "  return 1./(np.sqrt(2*np.pi)*sigma)*np.exp(-0.5 * (1./sigma*(x - mu))**2)\n"
     ]
    },
    {
     "data": {
      "image/png": "[encoded data removed]",
      "text/plain": [
       "<matplotlib.figure.Figure at 0x747b518>"
      ]
     },
     "metadata": {},
     "output_type": "display_data"
    }
   ],
   "source": [
    "it.plotHistPopScore(population)"
   ]
  },
  {
   "cell_type": "code",
   "execution_count": 14,
   "metadata": {
    "collapsed": false
   },
   "outputs": [
    {
     "data": {
      "image/png": "[encoded data removed]",
      "text/plain": [
       "<matplotlib.figure.Figure at 0x7e31128>"
      ]
     },
     "metadata": {},
     "output_type": "display_data"
    }
   ],
   "source": [
    "it.plotPopScore(population)"
   ]
  },
  {
   "cell_type": "code",
   "execution_count": 15,
   "metadata": {
    "collapsed": true
   },
   "outputs": [],
   "source": [
    "popScores = it.getPopScores(population)"
   ]
  },
  {
   "cell_type": "code",
   "execution_count": 16,
   "metadata": {
    "collapsed": false
   },
   "outputs": [
    {
     "data": {
      "text/plain": [
       "[20.0,\n",
       " 20.0,\n",
       " 20.0,\n",
       " 20.0,\n",
       " 20.0,\n",
       " 20.0,\n",
       " 20.0,\n",
       " 20.0,\n",
       " 20.0,\n",
       " 20.0,\n",
       " 20.0,\n",
       " 20.0,\n",
       " 20.0,\n",
       " 20.0,\n",
       " 20.0,\n",
       " 20.0,\n",
       " 20.0,\n",
       " 20.0,\n",
       " 20.0,\n",
       " 20.0,\n",
       " 20.0,\n",
       " 20.0,\n",
       " 20.0,\n",
       " 20.0,\n",
       " 20.0,\n",
       " 20.0,\n",
       " 20.0,\n",
       " 20.0,\n",
       " 20.0,\n",
       " 20.0,\n",
       " 20.0,\n",
       " 20.0,\n",
       " 20.0,\n",
       " 20.0,\n",
       " 20.0,\n",
       " 20.0,\n",
       " 20.0,\n",
       " 20.0,\n",
       " 20.0,\n",
       " 20.0,\n",
       " 20.0,\n",
       " 20.0,\n",
       " 20.0,\n",
       " 20.0,\n",
       " 20.0,\n",
       " 20.0,\n",
       " 20.0,\n",
       " 20.0,\n",
       " 20.0,\n",
       " 20.0,\n",
       " 20.0,\n",
       " 20.0,\n",
       " 20.0,\n",
       " 20.0,\n",
       " 20.0,\n",
       " 20.0,\n",
       " 20.0,\n",
       " 20.0,\n",
       " 20.0,\n",
       " 20.0,\n",
       " 20.0,\n",
       " 20.0,\n",
       " 20.0,\n",
       " 20.0,\n",
       " 20.0,\n",
       " 20.0,\n",
       " 20.0,\n",
       " 20.0,\n",
       " 20.0,\n",
       " 20.0,\n",
       " 20.0,\n",
       " 20.0,\n",
       " 20.0,\n",
       " 20.0,\n",
       " 20.0,\n",
       " 20.0,\n",
       " 20.0,\n",
       " 20.0,\n",
       " 20.0,\n",
       " 20.0]"
      ]
     },
     "execution_count": 16,
     "metadata": {},
     "output_type": "execute_result"
    }
   ],
   "source": [
    "popScores"
   ]
  },
  {
   "cell_type": "code",
   "execution_count": null,
   "metadata": {
    "collapsed": true
   },
   "outputs": [],
   "source": []
  }
 ],
 "metadata": {
  "anaconda-cloud": {},
  "kernelspec": {
   "display_name": "Python [conda env:py27]",
   "language": "python",
   "name": "conda-env-py27-py"
  },
  "language_info": {
   "codemirror_mode": {
    "name": "ipython",
    "version": 2
   },
   "file_extension": ".py",
   "mimetype": "text/x-python",
   "name": "python",
   "nbconvert_exporter": "python",
   "pygments_lexer": "ipython2",
   "version": "2.7.12"
  }
 },
 "nbformat": 4,
 "nbformat_minor": 0
}
