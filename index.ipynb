{
 "cells": [
  {
   "cell_type": "markdown",
   "metadata": {},
   "source": [
    "# Genetic Algorithms with pyevolve\n",
    "\n",
    "<img src=\"img/logo.png\" align=\"center\">\n",
    "\n",
    "[Pyevolve](http://pyevolve.sourceforge.net/0_6rc1/) was developed to be a complete genetic algorithm framework written in pure python. The main objectives were:\n",
    "\n",
    "* **written in pure python**, to maximize the cross-platform issue;\n",
    "* **easy to use** API;\n",
    "* **see the evolution**, the user can and must see and interact with the evolution statistics, graphs, etc;\n",
    "* **extensible**, the user can create new representations, genetic operators like crossover, mutation, etc;\n",
    "* **fast**, the design must be optimized for performance;\n",
    "* **common features**, the framework must implement the most common features: selectors like roulette wheel, tournament, ranking, uniform; scaling schemes like linear scaling, etc;\n",
    "* **default parameters**, we must have default operators, settings, etc in all options;\n",
    "* **open-source**, the source is for everyone, not for only one.\n",
    "\n",
    "## Aim of these notebooks\n",
    "\n",
    "You will learn the basic functioning of Pyevolve. You will make scripts for using genetic algorithms in simple problems.\n",
    "\n",
    "* [First Example](First%20Example.ipynb)\n",
    "* [Graphical Analysis](Graphical%20Analysis.ipynb)\n",
    "* [Rastringin Function](Rastringin.ipynb)\n",
    "* [Travelling Salesman Problem](TSP.ipynb)"
   ]
  },
  {
   "cell_type": "code",
   "execution_count": null,
   "metadata": {
    "collapsed": true
   },
   "outputs": [],
   "source": []
  }
 ],
 "metadata": {
  "anaconda-cloud": {},
  "kernelspec": {
   "display_name": "Python [Root]",
   "language": "python",
   "name": "Python [Root]"
  },
  "language_info": {
   "codemirror_mode": {
    "name": "ipython",
    "version": 2
   },
   "file_extension": ".py",
   "mimetype": "text/x-python",
   "name": "python",
   "nbconvert_exporter": "python",
   "pygments_lexer": "ipython2",
   "version": "2.7.12"
  }
 },
 "nbformat": 4,
 "nbformat_minor": 2
}
