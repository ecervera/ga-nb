{
 "cells": [
  {
   "cell_type": "code",
   "execution_count": 1,
   "metadata": {
    "collapsed": true
   },
   "outputs": [],
   "source": [
    "from pyevolve import G1DList\n",
    "from pyevolve import GSimpleGA\n",
    "from pyevolve import Crossovers\n",
    "from pyevolve import Consts\n",
    "\n",
    "import random\n",
    "from math import sqrt"
   ]
  },
  {
   "cell_type": "code",
   "execution_count": 2,
   "metadata": {
    "collapsed": true
   },
   "outputs": [],
   "source": [
    "PIL_SUPPORT = None\n",
    "\n",
    "try:\n",
    "    from PIL import Image, ImageDraw, ImageFont\n",
    "    PIL_SUPPORT = True\n",
    "except:\n",
    "    PIL_SUPPORT = False"
   ]
  },
  {
   "cell_type": "code",
   "execution_count": 4,
   "metadata": {
    "collapsed": true
   },
   "outputs": [],
   "source": [
    "cm     = []\n",
    "coords = []\n",
    "CITIES = 30\n",
    "WIDTH   = 1024\n",
    "HEIGHT  = 768\n",
    "LAST_SCORE = -1"
   ]
  },
  {
   "cell_type": "code",
   "execution_count": 5,
   "metadata": {
    "collapsed": true
   },
   "outputs": [],
   "source": [
    "def cartesian_matrix(coords):\n",
    "    \"\"\" A distance matrix \"\"\"\n",
    "    matrix={}\n",
    "    for i,(x1,y1) in enumerate(coords):\n",
    "        for j,(x2,y2) in enumerate(coords):\n",
    "            dx, dy = x1-x2, y1-y2\n",
    "            dist=sqrt(dx*dx + dy*dy)\n",
    "            matrix[i,j] = dist\n",
    "    return matrix"
   ]
  },
  {
   "cell_type": "code",
   "execution_count": 6,
   "metadata": {
    "collapsed": true
   },
   "outputs": [],
   "source": [
    "def tour_length(matrix, tour):\n",
    "    \"\"\" Returns the total length of the tour \"\"\"\n",
    "    total = 0\n",
    "    t = tour.getInternalList()\n",
    "    for i in range(CITIES):\n",
    "        j      = (i+1)%CITIES\n",
    "        total += matrix[t[i], t[j]]\n",
    "    return total"
   ]
  },
  {
   "cell_type": "code",
   "execution_count": 7,
   "metadata": {
    "collapsed": true
   },
   "outputs": [],
   "source": [
    "def write_tour_to_img(coords, tour, img_file):\n",
    "    \"\"\" The function to plot the graph \"\"\"\n",
    "    padding=20\n",
    "    coords=[(x+padding,y+padding) for (x,y) in coords]\n",
    "    maxx,maxy=0,0\n",
    "    for x,y in coords:\n",
    "        maxx, maxy = max(x,maxx), max(y,maxy)\n",
    "    maxx+=padding\n",
    "    maxy+=padding\n",
    "    img=Image.new(\"RGB\",(int(maxx),int(maxy)),color=(255,255,255))\n",
    "    font=ImageFont.load_default()\n",
    "    d=ImageDraw.Draw(img);\n",
    "    num_cities=len(tour)\n",
    "    for i in range(num_cities):\n",
    "        j=(i+1)%num_cities\n",
    "        city_i=tour[i]\n",
    "        city_j=tour[j]\n",
    "        x1,y1=coords[city_i]\n",
    "        x2,y2=coords[city_j]\n",
    "        d.line((int(x1),int(y1),int(x2),int(y2)),fill=(0,0,0))\n",
    "        d.text((int(x1)+7,int(y1)-5),str(i),font=font,fill=(32,32,32))\n",
    "\n",
    "    for x,y in coords:\n",
    "        x,y=int(x),int(y)\n",
    "        d.ellipse((x-5,y-5,x+5,y+5),outline=(0,0,0),fill=(196,196,196))\n",
    "    del d\n",
    "    img.save(img_file, \"PNG\")\n",
    "    print \"The plot was saved into the %s file.\" % (img_file,)"
   ]
  },
  {
   "cell_type": "code",
   "execution_count": 8,
   "metadata": {
    "collapsed": true
   },
   "outputs": [],
   "source": [
    "def G1DListTSPInitializator(genome, **args):\n",
    "    \"\"\" The initializator for the TSP \"\"\"\n",
    "    lst = [i for i in xrange(genome.getListSize())]\n",
    "    random.shuffle(lst)\n",
    "    genome.setInternalList(lst)"
   ]
  },
  {
   "cell_type": "code",
   "execution_count": 9,
   "metadata": {
    "collapsed": true
   },
   "outputs": [],
   "source": [
    "def evolve_callback(ga_engine):\n",
    "    global LAST_SCORE\n",
    "    if ga_engine.getCurrentGeneration() % 100 == 0:\n",
    "        best = ga_engine.bestIndividual()\n",
    "        if LAST_SCORE != best.getRawScore():\n",
    "            write_tour_to_img( coords, best, \"tspimg/tsp_result_%d.png\" % ga_engine.getCurrentGeneration())\n",
    "            LAST_SCORE = best.getRawScore()\n",
    "    return False"
   ]
  },
  {
   "cell_type": "code",
   "execution_count": 11,
   "metadata": {
    "collapsed": true
   },
   "outputs": [],
   "source": [
    "global cm, coords, WIDTH, HEIGHT\n",
    "\n",
    "coords = [(random.randint(0, WIDTH), random.randint(0, HEIGHT))\n",
    "             for i in xrange(CITIES)]\n",
    "cm     = cartesian_matrix(coords)\n",
    "genome = G1DList.G1DList(len(coords))\n",
    "\n",
    "genome.evaluator.set(lambda chromosome: tour_length(cm, chromosome))\n",
    "genome.crossover.set(Crossovers.G1DListCrossoverEdge)\n",
    "genome.initializator.set(G1DListTSPInitializator)\n",
    "\n",
    "ga = GSimpleGA.GSimpleGA(genome)\n",
    "ga.setGenerations(10000)\n",
    "ga.setMinimax(Consts.minimaxType[\"minimize\"])\n",
    "ga.setCrossoverRate(1.0)\n",
    "ga.setMutationRate(0.02)\n",
    "ga.setPopulationSize(80)\n",
    "\n",
    "ga.stepCallback.set(evolve_callback)"
   ]
  },
  {
   "cell_type": "code",
   "execution_count": 12,
   "metadata": {
    "collapsed": false
   },
   "outputs": [
    {
     "name": "stdout",
     "output_type": "stream",
     "text": [
      "The plot was saved into the tspimg/tsp_result_0.png file.\n",
      "Gen. 0 (0.00%): Max/Min/Avg Fitness(Raw) [16159.36(16460.77)/11123.67(10861.51)/13466.14(13466.14)]\n",
      "The plot was saved into the tspimg/tsp_result_100.png file.\n",
      "The plot was saved into the tspimg/tsp_result_200.png file.\n",
      "Gen. 200 (2.00%): Max/Min/Avg Fitness(Raw) [8408.07(9221.75)/5361.85(4406.78)/7006.73(7006.73)]\n",
      "The plot was saved into the tspimg/tsp_result_400.png file.\n",
      "Gen. 400 (4.00%): Max/Min/Avg Fitness(Raw) [7827.30(9675.01)/5630.35(4366.38)/6522.75(6522.75)]\n",
      "The plot was saved into the tspimg/tsp_result_500.png file.\n",
      "The plot was saved into the tspimg/tsp_result_600.png file.\n",
      "Gen. 600 (6.00%): Max/Min/Avg Fitness(Raw) [7068.36(9448.82)/5257.91(3980.06)/5890.30(5890.30)]\n",
      "The plot was saved into the tspimg/tsp_result_700.png file.\n",
      "The plot was saved into the tspimg/tsp_result_800.png file.\n",
      "Gen. 800 (8.00%): Max/Min/Avg Fitness(Raw) [7074.03(9064.88)/5171.60(3950.03)/5895.02(5895.02)]\n",
      "The plot was saved into the tspimg/tsp_result_900.png file.\n",
      "The plot was saved into the tspimg/tsp_result_1000.png file.\n",
      "Gen. 1000 (10.00%): Max/Min/Avg Fitness(Raw) [7345.83(8601.92)/4911.75(3670.58)/6121.53(6121.53)]\n",
      "The plot was saved into the tspimg/tsp_result_1200.png file.\n",
      "Gen. 1200 (12.00%): Max/Min/Avg Fitness(Raw) [7501.07(9077.13)/5108.82(3669.04)/6250.89(6250.89)]\n",
      "Gen. 1400 (14.00%): Max/Min/Avg Fitness(Raw) [7127.89(8482.13)/4878.73(3669.04)/5939.91(5939.91)]\n",
      "Gen. 1600 (16.00%): Max/Min/Avg Fitness(Raw) [6970.75(9014.72)/5033.44(3669.04)/5808.96(5808.96)]\n",
      "Gen. 1800 (18.00%): Max/Min/Avg Fitness(Raw) [6540.36(8821.35)/4874.31(3669.04)/5450.30(5450.30)]\n",
      "Gen. 2000 (20.00%): Max/Min/Avg Fitness(Raw) [6730.94(8624.17)/4887.26(3669.04)/5609.11(5609.11)]\n",
      "Gen. 2200 (22.00%): Max/Min/Avg Fitness(Raw) [6907.57(10045.46)/5196.06(3669.04)/5756.30(5756.30)]\n",
      "Gen. 2400 (24.00%): Max/Min/Avg Fitness(Raw) [7339.97(9980.24)/5341.66(3669.04)/6116.64(6116.64)]\n",
      "Gen. 2600 (26.00%): Max/Min/Avg Fitness(Raw) [7067.52(8367.89)/4834.18(3669.04)/5889.60(5889.60)]\n",
      "Gen. 2800 (28.00%): Max/Min/Avg Fitness(Raw) [6615.93(9233.63)/4966.68(3669.04)/5513.28(5513.28)]\n",
      "Gen. 3000 (30.00%): Max/Min/Avg Fitness(Raw) [6832.95(9051.33)/5007.18(3669.04)/5694.13(5694.13)]\n",
      "Gen. 3200 (32.00%): Max/Min/Avg Fitness(Raw) [7095.62(9050.47)/5067.19(3669.04)/5913.02(5913.02)]\n",
      "Gen. 3400 (34.00%): Max/Min/Avg Fitness(Raw) [7566.19(9999.27)/5405.29(3669.04)/6305.16(6305.16)]\n",
      "Gen. 3600 (36.00%): Max/Min/Avg Fitness(Raw) [7222.79(9164.81)/5119.75(3669.04)/6019.00(6019.00)]\n",
      "Gen. 3800 (38.00%): Max/Min/Avg Fitness(Raw) [7502.64(8835.44)/5001.80(3669.04)/6252.20(6252.20)]\n",
      "Gen. 4000 (40.00%): Max/Min/Avg Fitness(Raw) [6411.32(8660.79)/4803.75(3669.04)/5342.77(5342.77)]\n",
      "Gen. 4200 (42.00%): Max/Min/Avg Fitness(Raw) [6323.87(7945.74)/4639.34(3669.04)/5269.89(5269.89)]\n",
      "Gen. 4400 (44.00%): Max/Min/Avg Fitness(Raw) [7215.77(8663.03)/4949.29(3669.04)/6013.15(6013.15)]\n",
      "Gen. 4600 (46.00%): Max/Min/Avg Fitness(Raw) [7196.26(8952.98)/5052.41(3669.04)/5996.88(5996.88)]\n",
      "Gen. 4800 (48.00%): Max/Min/Avg Fitness(Raw) [6501.10(8603.65)/4822.94(3669.04)/5417.58(5417.58)]\n",
      "Gen. 5000 (50.00%): Max/Min/Avg Fitness(Raw) [6872.64(9707.74)/5134.95(3669.04)/5727.20(5727.20)]\n",
      "Gen. 5200 (52.00%): Max/Min/Avg Fitness(Raw) [6671.52(8891.45)/4928.68(3669.04)/5559.60(5559.60)]\n",
      "Gen. 5400 (54.00%): Max/Min/Avg Fitness(Raw) [7379.04(9946.41)/5345.93(3669.04)/6149.20(6149.20)]\n",
      "Gen. 5600 (56.00%): Max/Min/Avg Fitness(Raw) [7111.25(7733.49)/4446.05(3669.04)/5926.04(5926.04)]\n",
      "Gen. 5800 (58.00%): Max/Min/Avg Fitness(Raw) [6952.12(9596.52)/5146.19(3669.04)/5793.43(5793.43)]\n",
      "Gen. 6000 (60.00%): Max/Min/Avg Fitness(Raw) [6818.22(8256.93)/4793.61(3669.04)/5681.85(5681.85)]\n",
      "Gen. 6200 (62.00%): Max/Min/Avg Fitness(Raw) [6612.76(8384.47)/4804.38(3669.04)/5510.63(5510.63)]\n",
      "Gen. 6400 (64.00%): Max/Min/Avg Fitness(Raw) [7311.51(9208.96)/5145.02(3669.04)/6092.92(6092.92)]\n",
      "Gen. 6600 (66.00%): Max/Min/Avg Fitness(Raw) [6364.07(8376.70)/4739.34(3669.04)/5303.39(5303.39)]\n",
      "Gen. 6800 (68.00%): Max/Min/Avg Fitness(Raw) [7065.21(8750.13)/4974.99(3669.04)/5887.68(5887.68)]\n",
      "Gen. 7000 (70.00%): Max/Min/Avg Fitness(Raw) [6805.01(9100.25)/5008.81(3669.04)/5670.84(5670.84)]\n",
      "Gen. 7200 (72.00%): Max/Min/Avg Fitness(Raw) [6618.32(8128.26)/4735.90(3669.04)/5515.26(5515.26)]\n",
      "Gen. 7400 (74.00%): Max/Min/Avg Fitness(Raw) [6532.96(9958.67)/5016.01(3669.04)/5444.13(5444.13)]\n",
      "Gen. 7600 (76.00%): Max/Min/Avg Fitness(Raw) [6758.34(9032.54)/4981.77(3669.04)/5631.95(5631.95)]\n",
      "Gen. 7800 (78.00%): Max/Min/Avg Fitness(Raw) [6642.82(9871.65)/5059.06(3669.04)/5535.68(5535.68)]\n",
      "Gen. 8000 (80.00%): Max/Min/Avg Fitness(Raw) [6349.98(7823.19)/4613.31(3669.04)/5291.65(5291.65)]\n",
      "Gen. 8200 (82.00%): Max/Min/Avg Fitness(Raw) [7157.98(10372.34)/5343.51(3669.04)/5964.98(5964.98)]\n",
      "Gen. 8400 (84.00%): Max/Min/Avg Fitness(Raw) [6376.38(8484.89)/4762.52(3669.04)/5313.65(5313.65)]\n",
      "Gen. 8600 (86.00%): Max/Min/Avg Fitness(Raw) [6670.77(8613.77)/4871.13(3669.04)/5558.98(5558.98)]\n",
      "Gen. 8800 (88.00%): Max/Min/Avg Fitness(Raw) [7383.88(10062.54)/5371.21(3669.04)/6153.23(6153.23)]\n",
      "Gen. 9000 (90.00%): Max/Min/Avg Fitness(Raw) [6685.94(7849.98)/4641.09(3669.04)/5571.62(5571.62)]\n",
      "Gen. 9200 (92.00%): Max/Min/Avg Fitness(Raw) [6695.56(8341.69)/4807.72(3669.04)/5579.63(5579.63)]\n",
      "Gen. 9400 (94.00%): Max/Min/Avg Fitness(Raw) [6971.67(8547.81)/4901.30(3669.04)/5809.72(5809.72)]\n",
      "Gen. 9600 (96.00%): Max/Min/Avg Fitness(Raw) [7206.20(8921.56)/5043.10(3669.04)/6005.17(6005.17)]\n",
      "Gen. 9800 (98.00%): Max/Min/Avg Fitness(Raw) [7158.87(8687.48)/4958.92(3669.04)/5965.73(5965.73)]\n",
      "Gen. 10000 (100.00%): Max/Min/Avg Fitness(Raw) [7731.44(9251.44)/5170.24(3669.04)/6442.87(6442.87)]\n",
      "Total time elapsed: 163.761 seconds.\n",
      "The plot was saved into the tsp_result.png file.\n"
     ]
    }
   ],
   "source": [
    "ga.evolve(freq_stats=200)\n",
    "best = ga.bestIndividual()\n",
    "\n",
    "if PIL_SUPPORT:\n",
    "    write_tour_to_img(coords, best, \"tsp_result.png\")\n",
    "else:\n",
    "    print \"No PIL detected, cannot plot the graph !\""
   ]
  },
  {
   "cell_type": "code",
   "execution_count": null,
   "metadata": {
    "collapsed": true
   },
   "outputs": [],
   "source": []
  }
 ],
 "metadata": {
  "anaconda-cloud": {},
  "kernelspec": {
   "display_name": "Python [conda env:py27]",
   "language": "python",
   "name": "conda-env-py27-py"
  },
  "language_info": {
   "codemirror_mode": {
    "name": "ipython",
    "version": 2
   },
   "file_extension": ".py",
   "mimetype": "text/x-python",
   "name": "python",
   "nbconvert_exporter": "python",
   "pygments_lexer": "ipython2",
   "version": "2.7.12"
  }
 },
 "nbformat": 4,
 "nbformat_minor": 0
}
