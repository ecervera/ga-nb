{
 "cells": [
  {
   "cell_type": "markdown",
   "metadata": {},
   "source": [
    "# The Travelling Salesperson Problem\n",
    "\n",
    "This notebook has been adapted from [a Pyevolve example](http://pyevolve.sourceforge.net/0_6rc1/examples.html#example-12-the-travelling-salesman-problem-tsp).\n",
    "\n",
    "The [travelling salesperson problem (TSP)](http://en.wikipedia.org/wiki/Travelling_salesman_problem) is an NP-hard problem in combinatorial optimization studied in operations research and theoretical computer science. Given a list of cities and their pairwise distances, the task is to find the shortest possible route that visits each city exactly once and returns to the origin city. It is a special case of the travelling purchaser problem.\n",
    "\n",
    "[<img src=\"img/travelling_salesman_problem.jpg\" align=\"right\" width=360>](http://en.wikipedia.org/wiki/Travelling_salesman_problem)\n",
    "\n",
    "The code below shows the use of Pyevolve to solve the TSP. Images of the intermediate and final solutions are stored in the 'tspimg' folder.\n",
    "\n",
    "Your tasks are:\n",
    "1. Add the necessary statements for storing the results in a database named 'tsp.db' with identifier 'ex1'.\n",
    "2. For the maximum grade: modify the code to solve the problem with the [ATT 48 dataset](att48.tsp),  a set of 48 cities (US state capitals) from [TSPLIB](http://elib.zib.de/pub/mp-testdata/tsp/tsplib/tsplib.html). Store the results in a database named 'tsp_att48.db' with identifier 'ex1'. For your information, [the optimal cost is 10648](https://www.iwr.uni-heidelberg.de/groups/comopt/software/TSPLIB95/STSP.html)."
   ]
  },
  {
   "cell_type": "code",
   "execution_count": null,
   "metadata": {
    "collapsed": true
   },
   "outputs": [],
   "source": [
    "from pyevolve import G1DList\n",
    "from pyevolve import GSimpleGA\n",
    "from pyevolve import Crossovers\n",
    "from pyevolve import Consts\n",
    "\n",
    "import random\n",
    "from math import sqrt\n",
    "from PIL import Image, ImageDraw, ImageFont"
   ]
  },
  {
   "cell_type": "code",
   "execution_count": null,
   "metadata": {
    "collapsed": true
   },
   "outputs": [],
   "source": [
    "cm     = []\n",
    "coords = []\n",
    "CITIES = 30\n",
    "WIDTH   = 600\n",
    "HEIGHT  = 400\n",
    "LAST_SCORE = -1"
   ]
  },
  {
   "cell_type": "code",
   "execution_count": null,
   "metadata": {
    "collapsed": true
   },
   "outputs": [],
   "source": [
    "def cartesian_matrix(coords):\n",
    "    \"\"\" A distance matrix \"\"\"\n",
    "    matrix={}\n",
    "    for i,(x1,y1) in enumerate(coords):\n",
    "        for j,(x2,y2) in enumerate(coords):\n",
    "            dx, dy = x1-x2, y1-y2\n",
    "            dist=sqrt(dx*dx + dy*dy)\n",
    "            matrix[i,j] = dist\n",
    "    return matrix"
   ]
  },
  {
   "cell_type": "code",
   "execution_count": null,
   "metadata": {
    "collapsed": true
   },
   "outputs": [],
   "source": [
    "def tour_length(matrix, tour):\n",
    "    \"\"\" Returns the total length of the tour \"\"\"\n",
    "    total = 0\n",
    "    t = tour.getInternalList()\n",
    "    for i in range(CITIES):\n",
    "        j      = (i+1)%CITIES\n",
    "        total += matrix[t[i], t[j]]\n",
    "    return total"
   ]
  },
  {
   "cell_type": "code",
   "execution_count": null,
   "metadata": {
    "collapsed": true
   },
   "outputs": [],
   "source": [
    "def write_tour_to_img(coords, tour, img_file):\n",
    "    \"\"\" The function to plot the graph \"\"\"\n",
    "    padding=20\n",
    "    coords=[(x+padding,y+padding) for (x,y) in coords]\n",
    "    maxx,maxy=0,0\n",
    "    for x,y in coords:\n",
    "        maxx, maxy = max(x,maxx), max(y,maxy)\n",
    "    maxx+=padding\n",
    "    maxy+=padding\n",
    "    img=Image.new(\"RGB\",(int(maxx),int(maxy)),color=(255,255,255))\n",
    "    font=ImageFont.load_default()\n",
    "    d=ImageDraw.Draw(img);\n",
    "    num_cities=len(tour)\n",
    "    for i in range(num_cities):\n",
    "        j=(i+1)%num_cities\n",
    "        city_i=tour[i]\n",
    "        city_j=tour[j]\n",
    "        x1,y1=coords[city_i]\n",
    "        x2,y2=coords[city_j]\n",
    "        d.line((int(x1),int(y1),int(x2),int(y2)),fill=(0,0,0))\n",
    "        d.text((int(x1)+7,int(y1)-5),str(i),font=font,fill=(32,32,32))\n",
    "\n",
    "    for x,y in coords:\n",
    "        x,y=int(x),int(y)\n",
    "        d.ellipse((x-5,y-5,x+5,y+5),outline=(0,0,0),fill=(196,196,196))\n",
    "    del d\n",
    "    img.save(img_file, \"PNG\")\n",
    "    print \"The plot was saved into the %s file.\" % (img_file,)"
   ]
  },
  {
   "cell_type": "code",
   "execution_count": null,
   "metadata": {
    "collapsed": true
   },
   "outputs": [],
   "source": [
    "def G1DListTSPInitializator(genome, **args):\n",
    "    \"\"\" The initializator for the TSP \"\"\"\n",
    "    lst = [i for i in xrange(genome.getListSize())]\n",
    "    random.shuffle(lst)\n",
    "    genome.setInternalList(lst)"
   ]
  },
  {
   "cell_type": "code",
   "execution_count": null,
   "metadata": {
    "collapsed": true
   },
   "outputs": [],
   "source": [
    "def evolve_callback(ga_engine):\n",
    "    global LAST_SCORE\n",
    "    if ga_engine.getCurrentGeneration() % 100 == 0:\n",
    "        best = ga_engine.bestIndividual()\n",
    "        if LAST_SCORE != best.getRawScore():\n",
    "            write_tour_to_img( coords, best, \"tspimg/tsp_result_%05d.png\" % ga_engine.getCurrentGeneration())\n",
    "            LAST_SCORE = best.getRawScore()\n",
    "    return False"
   ]
  },
  {
   "cell_type": "code",
   "execution_count": null,
   "metadata": {
    "collapsed": true
   },
   "outputs": [],
   "source": [
    "coords = [(random.randint(0, WIDTH), random.randint(0, HEIGHT))\n",
    "             for i in xrange(CITIES)]\n",
    "cm     = cartesian_matrix(coords)"
   ]
  },
  {
   "cell_type": "code",
   "execution_count": null,
   "metadata": {
    "collapsed": true
   },
   "outputs": [],
   "source": [
    "genome = G1DList.G1DList(len(coords))\n",
    "genome.evaluator.set(lambda chromosome: tour_length(cm, chromosome))\n",
    "genome.crossover.set(Crossovers.G1DListCrossoverEdge)\n",
    "genome.initializator.set(G1DListTSPInitializator)"
   ]
  },
  {
   "cell_type": "code",
   "execution_count": null,
   "metadata": {
    "collapsed": true
   },
   "outputs": [],
   "source": [
    "ga = GSimpleGA.GSimpleGA(genome)\n",
    "ga.setGenerations(2000)\n",
    "ga.setMinimax(Consts.minimaxType[\"minimize\"])\n",
    "ga.setCrossoverRate(1.0)\n",
    "ga.setMutationRate(0.02)\n",
    "ga.setPopulationSize(80)\n",
    "ga.stepCallback.set(evolve_callback)"
   ]
  },
  {
   "cell_type": "code",
   "execution_count": null,
   "metadata": {
    "collapsed": false
   },
   "outputs": [],
   "source": [
    "ga.evolve(freq_stats=200)\n",
    "best = ga.bestIndividual()\n",
    "write_tour_to_img(coords, best, \"tspimg/tsp_result.png\")"
   ]
  },
  {
   "cell_type": "markdown",
   "metadata": {},
   "source": [
    "You can check now the results by plotting some graphs of the evolution process in [this notebook](TSP_check.ipynb)."
   ]
  }
 ],
 "metadata": {
  "anaconda-cloud": {},
  "kernelspec": {
   "display_name": "Python 2",
   "language": "python",
   "name": "python2"
  },
  "language_info": {
   "codemirror_mode": {
    "name": "ipython",
    "version": 2
   },
   "file_extension": ".py",
   "mimetype": "text/x-python",
   "name": "python",
   "nbconvert_exporter": "python",
   "pygments_lexer": "ipython2",
   "version": "2.7.12"
  }
 },
 "nbformat": 4,
 "nbformat_minor": 0
}
